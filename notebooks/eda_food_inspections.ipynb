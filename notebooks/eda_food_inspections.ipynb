{
 "cells": [
  {
   "cell_type": "markdown",
   "metadata": {},
   "source": [
    "# EDA: Chicago Food Inspections"
   ]
  },
  {
   "cell_type": "code",
   "execution_count": 1,
   "metadata": {},
   "outputs": [],
   "source": [
    "import pandas as pd\n",
    "import numpy as np\n",
    "import seaborn as sns\n",
    "import matplotlib.pyplot as plt\n",
    "#import geopandas as gpd\n",
    "\n",
    "#from shapely.geometry import Point, Polygon\n",
    "from matplotlib.ticker import FuncFormatter"
   ]
  },
  {
   "cell_type": "code",
   "execution_count": 2,
   "metadata": {},
   "outputs": [],
   "source": [
    "import sys\n",
    "sys.path.append('../src/utils')"
   ]
  },
  {
   "cell_type": "code",
   "execution_count": 3,
   "metadata": {},
   "outputs": [],
   "source": [
    "from utils_notebook.utils_eda import *"
   ]
  },
  {
   "cell_type": "code",
   "execution_count": 4,
   "metadata": {},
   "outputs": [],
   "source": [
    "#estas lineas son para autocargar \n",
    "#la libreria de utils_eda.py \n",
    "#si se genera una modificacion en el codigo\n",
    "%load_ext autoreload\n",
    "%autoreload 2"
   ]
  },
  {
   "cell_type": "code",
   "execution_count": 5,
   "metadata": {},
   "outputs": [],
   "source": [
    "df_food = pd.read_csv('../../Food_Inspections.csv')"
   ]
  },
  {
   "cell_type": "code",
   "execution_count": 6,
   "metadata": {},
   "outputs": [
    {
     "data": {
      "text/html": [
       "<div>\n",
       "<style scoped>\n",
       "    .dataframe tbody tr th:only-of-type {\n",
       "        vertical-align: middle;\n",
       "    }\n",
       "\n",
       "    .dataframe tbody tr th {\n",
       "        vertical-align: top;\n",
       "    }\n",
       "\n",
       "    .dataframe thead th {\n",
       "        text-align: right;\n",
       "    }\n",
       "</style>\n",
       "<table border=\"1\" class=\"dataframe\">\n",
       "  <thead>\n",
       "    <tr style=\"text-align: right;\">\n",
       "      <th></th>\n",
       "      <th>Inspection ID</th>\n",
       "      <th>DBA Name</th>\n",
       "      <th>AKA Name</th>\n",
       "      <th>License #</th>\n",
       "      <th>Facility Type</th>\n",
       "      <th>Risk</th>\n",
       "      <th>Address</th>\n",
       "      <th>City</th>\n",
       "      <th>State</th>\n",
       "      <th>Zip</th>\n",
       "      <th>Inspection Date</th>\n",
       "      <th>Inspection Type</th>\n",
       "      <th>Results</th>\n",
       "      <th>Violations</th>\n",
       "      <th>Latitude</th>\n",
       "      <th>Longitude</th>\n",
       "      <th>Location</th>\n",
       "    </tr>\n",
       "  </thead>\n",
       "  <tbody>\n",
       "    <tr>\n",
       "      <th>0</th>\n",
       "      <td>2472391</td>\n",
       "      <td>PHILZ COFFEE</td>\n",
       "      <td>PHILZ COFFEE</td>\n",
       "      <td>2766979.0</td>\n",
       "      <td>NaN</td>\n",
       "      <td>Risk 2 (Medium)</td>\n",
       "      <td>1555 N WELLS ST</td>\n",
       "      <td>CHICAGO</td>\n",
       "      <td>IL</td>\n",
       "      <td>60610.0</td>\n",
       "      <td>01/07/2021</td>\n",
       "      <td>License</td>\n",
       "      <td>Not Ready</td>\n",
       "      <td>NaN</td>\n",
       "      <td>41.910736</td>\n",
       "      <td>-87.634551</td>\n",
       "      <td>(-87.63455069145124, 41.910736031820235)</td>\n",
       "    </tr>\n",
       "    <tr>\n",
       "      <th>1</th>\n",
       "      <td>2453551</td>\n",
       "      <td>BIAN</td>\n",
       "      <td>BIAN</td>\n",
       "      <td>2744753.0</td>\n",
       "      <td>Restaurant</td>\n",
       "      <td>Risk 1 (High)</td>\n",
       "      <td>600 W CHICAGO AVE</td>\n",
       "      <td>CHICAGO</td>\n",
       "      <td>IL</td>\n",
       "      <td>60654.0</td>\n",
       "      <td>10/20/2020</td>\n",
       "      <td>License</td>\n",
       "      <td>Pass</td>\n",
       "      <td>NaN</td>\n",
       "      <td>41.896585</td>\n",
       "      <td>-87.642996</td>\n",
       "      <td>(-87.64299618172501, 41.896585191199556)</td>\n",
       "    </tr>\n",
       "    <tr>\n",
       "      <th>2</th>\n",
       "      <td>2386633</td>\n",
       "      <td>JIN JU</td>\n",
       "      <td>JIN JU</td>\n",
       "      <td>27137.0</td>\n",
       "      <td>Restaurant</td>\n",
       "      <td>Risk 1 (High)</td>\n",
       "      <td>5203 N CLARK ST</td>\n",
       "      <td>CHICAGO</td>\n",
       "      <td>IL</td>\n",
       "      <td>60640.0</td>\n",
       "      <td>08/28/2020</td>\n",
       "      <td>Canvass</td>\n",
       "      <td>No Entry</td>\n",
       "      <td>NaN</td>\n",
       "      <td>41.976301</td>\n",
       "      <td>-87.668276</td>\n",
       "      <td>(-87.66827593789948, 41.97630115368914)</td>\n",
       "    </tr>\n",
       "    <tr>\n",
       "      <th>3</th>\n",
       "      <td>2386595</td>\n",
       "      <td>LA BIZNAGA #2</td>\n",
       "      <td>LA BIZNAGA #2</td>\n",
       "      <td>2708992.0</td>\n",
       "      <td>NaN</td>\n",
       "      <td>Risk 1 (High)</td>\n",
       "      <td>2949 W BELMONT AVE</td>\n",
       "      <td>CHICAGO</td>\n",
       "      <td>IL</td>\n",
       "      <td>60618.0</td>\n",
       "      <td>08/27/2020</td>\n",
       "      <td>Complaint</td>\n",
       "      <td>No Entry</td>\n",
       "      <td>NaN</td>\n",
       "      <td>41.939256</td>\n",
       "      <td>-87.702270</td>\n",
       "      <td>(-87.70226967930802, 41.939255926667535)</td>\n",
       "    </tr>\n",
       "    <tr>\n",
       "      <th>4</th>\n",
       "      <td>2386523</td>\n",
       "      <td>MC DONALD'S</td>\n",
       "      <td>MC DONALD'S</td>\n",
       "      <td>2560785.0</td>\n",
       "      <td>Restaurant</td>\n",
       "      <td>Risk 2 (Medium)</td>\n",
       "      <td>6336 S ASHLAND AVE</td>\n",
       "      <td>CHICAGO</td>\n",
       "      <td>IL</td>\n",
       "      <td>60636.0</td>\n",
       "      <td>08/26/2020</td>\n",
       "      <td>Short Form Complaint</td>\n",
       "      <td>Pass</td>\n",
       "      <td>NaN</td>\n",
       "      <td>41.778361</td>\n",
       "      <td>-87.664337</td>\n",
       "      <td>(-87.66433686342792, 41.77836097603761)</td>\n",
       "    </tr>\n",
       "  </tbody>\n",
       "</table>\n",
       "</div>"
      ],
      "text/plain": [
       "   Inspection ID       DBA Name       AKA Name  License # Facility Type  \\\n",
       "0        2472391   PHILZ COFFEE   PHILZ COFFEE  2766979.0           NaN   \n",
       "1        2453551           BIAN           BIAN  2744753.0    Restaurant   \n",
       "2        2386633         JIN JU         JIN JU    27137.0    Restaurant   \n",
       "3        2386595  LA BIZNAGA #2  LA BIZNAGA #2  2708992.0           NaN   \n",
       "4        2386523    MC DONALD'S    MC DONALD'S  2560785.0    Restaurant   \n",
       "\n",
       "              Risk              Address     City State      Zip  \\\n",
       "0  Risk 2 (Medium)     1555 N WELLS ST   CHICAGO    IL  60610.0   \n",
       "1    Risk 1 (High)   600 W CHICAGO AVE   CHICAGO    IL  60654.0   \n",
       "2    Risk 1 (High)     5203 N CLARK ST   CHICAGO    IL  60640.0   \n",
       "3    Risk 1 (High)  2949 W BELMONT AVE   CHICAGO    IL  60618.0   \n",
       "4  Risk 2 (Medium)  6336 S ASHLAND AVE   CHICAGO    IL  60636.0   \n",
       "\n",
       "  Inspection Date       Inspection Type    Results Violations   Latitude  \\\n",
       "0      01/07/2021               License  Not Ready        NaN  41.910736   \n",
       "1      10/20/2020               License       Pass        NaN  41.896585   \n",
       "2      08/28/2020               Canvass   No Entry        NaN  41.976301   \n",
       "3      08/27/2020             Complaint   No Entry        NaN  41.939256   \n",
       "4      08/26/2020  Short Form Complaint       Pass        NaN  41.778361   \n",
       "\n",
       "   Longitude                                  Location  \n",
       "0 -87.634551  (-87.63455069145124, 41.910736031820235)  \n",
       "1 -87.642996  (-87.64299618172501, 41.896585191199556)  \n",
       "2 -87.668276   (-87.66827593789948, 41.97630115368914)  \n",
       "3 -87.702270  (-87.70226967930802, 41.939255926667535)  \n",
       "4 -87.664337   (-87.66433686342792, 41.77836097603761)  "
      ]
     },
     "execution_count": 6,
     "metadata": {},
     "output_type": "execute_result"
    }
   ],
   "source": [
    "df_food.head()"
   ]
  },
  {
   "cell_type": "markdown",
   "metadata": {},
   "source": [
    "Generamos análisis primario para observar cómo se comporta la data Raw"
   ]
  },
  {
   "cell_type": "code",
   "execution_count": 7,
   "metadata": {},
   "outputs": [
    {
     "data": {
      "text/html": [
       "<div>\n",
       "<style scoped>\n",
       "    .dataframe tbody tr th:only-of-type {\n",
       "        vertical-align: middle;\n",
       "    }\n",
       "\n",
       "    .dataframe tbody tr th {\n",
       "        vertical-align: top;\n",
       "    }\n",
       "\n",
       "    .dataframe thead th {\n",
       "        text-align: right;\n",
       "    }\n",
       "</style>\n",
       "<table border=\"1\" class=\"dataframe\">\n",
       "  <thead>\n",
       "    <tr style=\"text-align: right;\">\n",
       "      <th></th>\n",
       "      <th>tipo_dato</th>\n",
       "      <th>cantidad</th>\n",
       "      <th>nulos</th>\n",
       "      <th>unicos</th>\n",
       "      <th>moda</th>\n",
       "      <th>top1</th>\n",
       "      <th>f1</th>\n",
       "      <th>top2</th>\n",
       "      <th>f2</th>\n",
       "      <th>top3</th>\n",
       "      <th>f3</th>\n",
       "    </tr>\n",
       "    <tr>\n",
       "      <th>columnas</th>\n",
       "      <th></th>\n",
       "      <th></th>\n",
       "      <th></th>\n",
       "      <th></th>\n",
       "      <th></th>\n",
       "      <th></th>\n",
       "      <th></th>\n",
       "      <th></th>\n",
       "      <th></th>\n",
       "      <th></th>\n",
       "      <th></th>\n",
       "    </tr>\n",
       "  </thead>\n",
       "  <tbody>\n",
       "    <tr>\n",
       "      <th>Inspection ID</th>\n",
       "      <td>int64</td>\n",
       "      <td>215130</td>\n",
       "      <td>0</td>\n",
       "      <td>215130</td>\n",
       "      <td>valores unicos</td>\n",
       "      <td>2099199</td>\n",
       "      <td>1</td>\n",
       "      <td>614242</td>\n",
       "      <td>1</td>\n",
       "      <td>1473945</td>\n",
       "      <td>1</td>\n",
       "    </tr>\n",
       "    <tr>\n",
       "      <th>DBA Name</th>\n",
       "      <td>object</td>\n",
       "      <td>215130</td>\n",
       "      <td>0</td>\n",
       "      <td>28753</td>\n",
       "      <td>SUBWAY</td>\n",
       "      <td>SUBWAY</td>\n",
       "      <td>2908</td>\n",
       "      <td>DUNKIN DONUTS</td>\n",
       "      <td>1578</td>\n",
       "      <td>MCDONALD'S</td>\n",
       "      <td>614</td>\n",
       "    </tr>\n",
       "    <tr>\n",
       "      <th>AKA Name</th>\n",
       "      <td>object</td>\n",
       "      <td>212643</td>\n",
       "      <td>2487</td>\n",
       "      <td>27360</td>\n",
       "      <td>SUBWAY</td>\n",
       "      <td>SUBWAY</td>\n",
       "      <td>3568</td>\n",
       "      <td>DUNKIN DONUTS</td>\n",
       "      <td>1586</td>\n",
       "      <td>7-ELEVEN</td>\n",
       "      <td>882</td>\n",
       "    </tr>\n",
       "    <tr>\n",
       "      <th>License #</th>\n",
       "      <td>float64</td>\n",
       "      <td>215113</td>\n",
       "      <td>17</td>\n",
       "      <td>39111</td>\n",
       "      <td>0</td>\n",
       "      <td>0</td>\n",
       "      <td>545</td>\n",
       "      <td>1.35432e+06</td>\n",
       "      <td>198</td>\n",
       "      <td>14616</td>\n",
       "      <td>176</td>\n",
       "    </tr>\n",
       "    <tr>\n",
       "      <th>Facility Type</th>\n",
       "      <td>object</td>\n",
       "      <td>210238</td>\n",
       "      <td>4892</td>\n",
       "      <td>500</td>\n",
       "      <td>Restaurant</td>\n",
       "      <td>Restaurant</td>\n",
       "      <td>143249</td>\n",
       "      <td>Grocery Store</td>\n",
       "      <td>28093</td>\n",
       "      <td>School</td>\n",
       "      <td>13206</td>\n",
       "    </tr>\n",
       "    <tr>\n",
       "      <th>Risk</th>\n",
       "      <td>object</td>\n",
       "      <td>215061</td>\n",
       "      <td>69</td>\n",
       "      <td>4</td>\n",
       "      <td>Risk 1 (High)</td>\n",
       "      <td>Risk 1 (High)</td>\n",
       "      <td>153869</td>\n",
       "      <td>Risk 2 (Medium)</td>\n",
       "      <td>41978</td>\n",
       "      <td>Risk 3 (Low)</td>\n",
       "      <td>19185</td>\n",
       "    </tr>\n",
       "    <tr>\n",
       "      <th>Address</th>\n",
       "      <td>object</td>\n",
       "      <td>215130</td>\n",
       "      <td>0</td>\n",
       "      <td>18525</td>\n",
       "      <td>11601 W TOUHY AVE</td>\n",
       "      <td>11601 W TOUHY AVE</td>\n",
       "      <td>2674</td>\n",
       "      <td>5700 S CICERO AVE</td>\n",
       "      <td>593</td>\n",
       "      <td>500 W MADISON ST</td>\n",
       "      <td>465</td>\n",
       "    </tr>\n",
       "    <tr>\n",
       "      <th>City</th>\n",
       "      <td>object</td>\n",
       "      <td>214972</td>\n",
       "      <td>158</td>\n",
       "      <td>70</td>\n",
       "      <td>CHICAGO</td>\n",
       "      <td>CHICAGO</td>\n",
       "      <td>214227</td>\n",
       "      <td>Chicago</td>\n",
       "      <td>347</td>\n",
       "      <td>chicago</td>\n",
       "      <td>111</td>\n",
       "    </tr>\n",
       "    <tr>\n",
       "      <th>State</th>\n",
       "      <td>object</td>\n",
       "      <td>215080</td>\n",
       "      <td>50</td>\n",
       "      <td>4</td>\n",
       "      <td>IL</td>\n",
       "      <td>IL</td>\n",
       "      <td>215077</td>\n",
       "      <td>NY</td>\n",
       "      <td>1</td>\n",
       "      <td>WI</td>\n",
       "      <td>1</td>\n",
       "    </tr>\n",
       "    <tr>\n",
       "      <th>Zip</th>\n",
       "      <td>float64</td>\n",
       "      <td>215078</td>\n",
       "      <td>52</td>\n",
       "      <td>112</td>\n",
       "      <td>60614</td>\n",
       "      <td>60614</td>\n",
       "      <td>8133</td>\n",
       "      <td>60647</td>\n",
       "      <td>7828</td>\n",
       "      <td>60657</td>\n",
       "      <td>7485</td>\n",
       "    </tr>\n",
       "    <tr>\n",
       "      <th>Inspection Date</th>\n",
       "      <td>object</td>\n",
       "      <td>215130</td>\n",
       "      <td>0</td>\n",
       "      <td>2797</td>\n",
       "      <td>11/14/2013</td>\n",
       "      <td>11/14/2013</td>\n",
       "      <td>185</td>\n",
       "      <td>09/13/2016</td>\n",
       "      <td>149</td>\n",
       "      <td>11/29/2016</td>\n",
       "      <td>145</td>\n",
       "    </tr>\n",
       "    <tr>\n",
       "      <th>Inspection Type</th>\n",
       "      <td>object</td>\n",
       "      <td>215129</td>\n",
       "      <td>1</td>\n",
       "      <td>110</td>\n",
       "      <td>Canvass</td>\n",
       "      <td>Canvass</td>\n",
       "      <td>114250</td>\n",
       "      <td>License</td>\n",
       "      <td>28302</td>\n",
       "      <td>Canvass Re-Inspection</td>\n",
       "      <td>22836</td>\n",
       "    </tr>\n",
       "    <tr>\n",
       "      <th>Results</th>\n",
       "      <td>object</td>\n",
       "      <td>215130</td>\n",
       "      <td>0</td>\n",
       "      <td>7</td>\n",
       "      <td>Pass</td>\n",
       "      <td>Pass</td>\n",
       "      <td>112641</td>\n",
       "      <td>Fail</td>\n",
       "      <td>41527</td>\n",
       "      <td>Pass w/ Conditions</td>\n",
       "      <td>32550</td>\n",
       "    </tr>\n",
       "    <tr>\n",
       "      <th>Violations</th>\n",
       "      <td>object</td>\n",
       "      <td>157683</td>\n",
       "      <td>57447</td>\n",
       "      <td>156734</td>\n",
       "      <td>32. FOOD AND NON-FOOD CONTACT SURFACES PROPERL...</td>\n",
       "      <td>32. FOOD AND NON-FOOD CONTACT SURFACES PROPERL...</td>\n",
       "      <td>11</td>\n",
       "      <td>45. FOOD HANDLER REQUIREMENTS MET - Comments: ...</td>\n",
       "      <td>10</td>\n",
       "      <td>30. FOOD IN ORIGINAL CONTAINER, PROPERLY LABEL...</td>\n",
       "      <td>10</td>\n",
       "    </tr>\n",
       "    <tr>\n",
       "      <th>Latitude</th>\n",
       "      <td>float64</td>\n",
       "      <td>214420</td>\n",
       "      <td>710</td>\n",
       "      <td>17248</td>\n",
       "      <td>42.0085</td>\n",
       "      <td>42.0085</td>\n",
       "      <td>2691</td>\n",
       "      <td>41.7893</td>\n",
       "      <td>593</td>\n",
       "      <td>41.8842</td>\n",
       "      <td>507</td>\n",
       "    </tr>\n",
       "    <tr>\n",
       "      <th>Longitude</th>\n",
       "      <td>float64</td>\n",
       "      <td>214420</td>\n",
       "      <td>710</td>\n",
       "      <td>17248</td>\n",
       "      <td>-87.9144</td>\n",
       "      <td>-87.9144</td>\n",
       "      <td>2691</td>\n",
       "      <td>-87.7416</td>\n",
       "      <td>593</td>\n",
       "      <td>-87.6411</td>\n",
       "      <td>507</td>\n",
       "    </tr>\n",
       "    <tr>\n",
       "      <th>Location</th>\n",
       "      <td>object</td>\n",
       "      <td>214420</td>\n",
       "      <td>710</td>\n",
       "      <td>17248</td>\n",
       "      <td>(-87.91442843927047, 42.008536400868735)</td>\n",
       "      <td>(-87.91442843927047, 42.008536400868735)</td>\n",
       "      <td>2691</td>\n",
       "      <td>(-87.74164564419637, 41.789329323265385)</td>\n",
       "      <td>593</td>\n",
       "      <td>(-87.64111966683218, 41.884187507127805)</td>\n",
       "      <td>507</td>\n",
       "    </tr>\n",
       "  </tbody>\n",
       "</table>\n",
       "</div>"
      ],
      "text/plain": [
       "                tipo_dato  cantidad  nulos  unicos  \\\n",
       "columnas                                             \n",
       "Inspection ID       int64    215130      0  215130   \n",
       "DBA Name           object    215130      0   28753   \n",
       "AKA Name           object    212643   2487   27360   \n",
       "License #         float64    215113     17   39111   \n",
       "Facility Type      object    210238   4892     500   \n",
       "Risk               object    215061     69       4   \n",
       "Address            object    215130      0   18525   \n",
       "City               object    214972    158      70   \n",
       "State              object    215080     50       4   \n",
       "Zip               float64    215078     52     112   \n",
       "Inspection Date    object    215130      0    2797   \n",
       "Inspection Type    object    215129      1     110   \n",
       "Results            object    215130      0       7   \n",
       "Violations         object    157683  57447  156734   \n",
       "Latitude          float64    214420    710   17248   \n",
       "Longitude         float64    214420    710   17248   \n",
       "Location           object    214420    710   17248   \n",
       "\n",
       "                                                              moda  \\\n",
       "columnas                                                             \n",
       "Inspection ID                                       valores unicos   \n",
       "DBA Name                                                    SUBWAY   \n",
       "AKA Name                                                    SUBWAY   \n",
       "License #                                                        0   \n",
       "Facility Type                                           Restaurant   \n",
       "Risk                                                 Risk 1 (High)   \n",
       "Address                                         11601 W TOUHY AVE    \n",
       "City                                                       CHICAGO   \n",
       "State                                                           IL   \n",
       "Zip                                                          60614   \n",
       "Inspection Date                                         11/14/2013   \n",
       "Inspection Type                                            Canvass   \n",
       "Results                                                       Pass   \n",
       "Violations       32. FOOD AND NON-FOOD CONTACT SURFACES PROPERL...   \n",
       "Latitude                                                   42.0085   \n",
       "Longitude                                                 -87.9144   \n",
       "Location                  (-87.91442843927047, 42.008536400868735)   \n",
       "\n",
       "                                                              top1      f1  \\\n",
       "columnas                                                                     \n",
       "Inspection ID                                              2099199       1   \n",
       "DBA Name                                                    SUBWAY    2908   \n",
       "AKA Name                                                    SUBWAY    3568   \n",
       "License #                                                        0     545   \n",
       "Facility Type                                           Restaurant  143249   \n",
       "Risk                                                 Risk 1 (High)  153869   \n",
       "Address                                         11601 W TOUHY AVE     2674   \n",
       "City                                                       CHICAGO  214227   \n",
       "State                                                           IL  215077   \n",
       "Zip                                                          60614    8133   \n",
       "Inspection Date                                         11/14/2013     185   \n",
       "Inspection Type                                            Canvass  114250   \n",
       "Results                                                       Pass  112641   \n",
       "Violations       32. FOOD AND NON-FOOD CONTACT SURFACES PROPERL...      11   \n",
       "Latitude                                                   42.0085    2691   \n",
       "Longitude                                                 -87.9144    2691   \n",
       "Location                  (-87.91442843927047, 42.008536400868735)    2691   \n",
       "\n",
       "                                                              top2     f2  \\\n",
       "columnas                                                                    \n",
       "Inspection ID                                               614242      1   \n",
       "DBA Name                                             DUNKIN DONUTS   1578   \n",
       "AKA Name                                             DUNKIN DONUTS   1586   \n",
       "License #                                              1.35432e+06    198   \n",
       "Facility Type                                        Grocery Store  28093   \n",
       "Risk                                               Risk 2 (Medium)  41978   \n",
       "Address                                         5700 S CICERO AVE     593   \n",
       "City                                                       Chicago    347   \n",
       "State                                                           NY      1   \n",
       "Zip                                                          60647   7828   \n",
       "Inspection Date                                         09/13/2016    149   \n",
       "Inspection Type                                            License  28302   \n",
       "Results                                                       Fail  41527   \n",
       "Violations       45. FOOD HANDLER REQUIREMENTS MET - Comments: ...     10   \n",
       "Latitude                                                   41.7893    593   \n",
       "Longitude                                                 -87.7416    593   \n",
       "Location                  (-87.74164564419637, 41.789329323265385)    593   \n",
       "\n",
       "                                                              top3     f3  \n",
       "columnas                                                                   \n",
       "Inspection ID                                              1473945      1  \n",
       "DBA Name                                                MCDONALD'S    614  \n",
       "AKA Name                                                  7-ELEVEN    882  \n",
       "License #                                                    14616    176  \n",
       "Facility Type                                               School  13206  \n",
       "Risk                                                  Risk 3 (Low)  19185  \n",
       "Address                                          500 W MADISON ST     465  \n",
       "City                                                       chicago    111  \n",
       "State                                                           WI      1  \n",
       "Zip                                                          60657   7485  \n",
       "Inspection Date                                         11/29/2016    145  \n",
       "Inspection Type                              Canvass Re-Inspection  22836  \n",
       "Results                                         Pass w/ Conditions  32550  \n",
       "Violations       30. FOOD IN ORIGINAL CONTAINER, PROPERLY LABEL...     10  \n",
       "Latitude                                                   41.8842    507  \n",
       "Longitude                                                 -87.6411    507  \n",
       "Location                  (-87.64111966683218, 41.884187507127805)    507  "
      ]
     },
     "metadata": {},
     "output_type": "display_data"
    },
    {
     "name": "stdout",
     "output_type": "stream",
     "text": [
      "None\n",
      "\n",
      " *********** Informacion global *************\n"
     ]
    },
    {
     "data": {
      "text/html": [
       "<div>\n",
       "<style scoped>\n",
       "    .dataframe tbody tr th:only-of-type {\n",
       "        vertical-align: middle;\n",
       "    }\n",
       "\n",
       "    .dataframe tbody tr th {\n",
       "        vertical-align: top;\n",
       "    }\n",
       "\n",
       "    .dataframe thead th {\n",
       "        text-align: right;\n",
       "    }\n",
       "</style>\n",
       "<table border=\"1\" class=\"dataframe\">\n",
       "  <thead>\n",
       "    <tr style=\"text-align: right;\">\n",
       "      <th>analisis</th>\n",
       "      <th>columnas</th>\n",
       "      <th>datos</th>\n",
       "      <th>total_nulos</th>\n",
       "      <th>%_nulos</th>\n",
       "      <th>num_var</th>\n",
       "      <th>date_var</th>\n",
       "      <th>cat_var</th>\n",
       "      <th>str_var</th>\n",
       "    </tr>\n",
       "  </thead>\n",
       "  <tbody>\n",
       "    <tr>\n",
       "      <th>informacion</th>\n",
       "      <td>17</td>\n",
       "      <td>215130</td>\n",
       "      <td>67303</td>\n",
       "      <td>31.28%</td>\n",
       "      <td>5</td>\n",
       "      <td>0</td>\n",
       "      <td>0</td>\n",
       "      <td>12</td>\n",
       "    </tr>\n",
       "  </tbody>\n",
       "</table>\n",
       "</div>"
      ],
      "text/plain": [
       "analisis    columnas   datos total_nulos %_nulos num_var date_var cat_var  \\\n",
       "informacion       17  215130       67303  31.28%       5        0       0   \n",
       "\n",
       "analisis    str_var  \n",
       "informacion      12  "
      ]
     },
     "metadata": {},
     "output_type": "display_data"
    },
    {
     "name": "stdout",
     "output_type": "stream",
     "text": [
      "None\n"
     ]
    }
   ],
   "source": [
    "count_data(df_food)"
   ]
  },
  {
   "cell_type": "markdown",
   "metadata": {},
   "source": [
    "Haremos algunas trasformaciones a la estructura de los datos antes de generar el Data Profiling como cambiar los tipos de variables a sus correctos.\n",
    "\n",
    "\n",
    "\n",
    "Como podemos observar en la tabla de arriba los nombres de las columnas contienen espacios en blanco y estan capitalizados aplicamos una normalización para hacer mas eficiente el trabajar mas tarde."
   ]
  },
  {
   "cell_type": "code",
   "execution_count": 8,
   "metadata": {},
   "outputs": [],
   "source": [
    "df_food = clean_column(df_food)"
   ]
  },
  {
   "cell_type": "code",
   "execution_count": 9,
   "metadata": {},
   "outputs": [
    {
     "data": {
      "text/plain": [
       "Index(['inspection_id', 'dba_name', 'aka_name', 'license_#', 'facility_type',\n",
       "       'risk', 'address', 'city', 'state', 'zip', 'inspection_date',\n",
       "       'inspection_type', 'results', 'violations', 'latitude', 'longitude',\n",
       "       'location'],\n",
       "      dtype='object')"
      ]
     },
     "execution_count": 9,
     "metadata": {},
     "output_type": "execute_result"
    }
   ],
   "source": [
    "df_food.columns"
   ]
  },
  {
   "cell_type": "markdown",
   "metadata": {},
   "source": [
    "Ahora verificamos los tipos de datos y si estan correctos."
   ]
  },
  {
   "cell_type": "code",
   "execution_count": 10,
   "metadata": {},
   "outputs": [
    {
     "data": {
      "text/plain": [
       "inspection_id        int64\n",
       "dba_name            object\n",
       "aka_name            object\n",
       "license_#          float64\n",
       "facility_type       object\n",
       "risk                object\n",
       "address             object\n",
       "city                object\n",
       "state               object\n",
       "zip                float64\n",
       "inspection_date     object\n",
       "inspection_type     object\n",
       "results             object\n",
       "violations          object\n",
       "latitude           float64\n",
       "longitude          float64\n",
       "location            object\n",
       "dtype: object"
      ]
     },
     "execution_count": 10,
     "metadata": {},
     "output_type": "execute_result"
    }
   ],
   "source": [
    "df_food.dtypes"
   ]
  },
  {
   "cell_type": "markdown",
   "metadata": {},
   "source": [
    "Observamos que las columnas inspection_date es del tipo String en formato mm/dd/aaaa y que no tienen valores nulos antes de hacer la conversión a tipo Date hacemos una comprobación de que todos los registros cumplan con este formato."
   ]
  },
  {
   "cell_type": "code",
   "execution_count": 11,
   "metadata": {},
   "outputs": [],
   "source": [
    "listFecha = [\"inspection_date\"]\n",
    "date_format = \"mm/dd/aaaa\""
   ]
  },
  {
   "cell_type": "code",
   "execution_count": 12,
   "metadata": {},
   "outputs": [
    {
     "name": "stdout",
     "output_type": "stream",
     "text": [
      "mm/dd/aaaa\n",
      "\n",
      "Cantidad de valores en inspection_date que no cumplen con el formato mm/dd/aaaa : 0\n",
      "Distribucion de valores:\n",
      " Series([], Name: 0, dtype: int64)\n"
     ]
    }
   ],
   "source": [
    "checkDateForm(df_food, listFecha, date_format)"
   ]
  },
  {
   "cell_type": "markdown",
   "metadata": {},
   "source": [
    "Todas cumplen con ese formato ahora cambiaremos el tipo a datetime para su correcto manejo."
   ]
  },
  {
   "cell_type": "code",
   "execution_count": 13,
   "metadata": {},
   "outputs": [],
   "source": [
    "type_format = '%m/%d/%Y'"
   ]
  },
  {
   "cell_type": "code",
   "execution_count": 14,
   "metadata": {},
   "outputs": [],
   "source": [
    "changeType_date(df_food,listFecha, type_format)"
   ]
  },
  {
   "cell_type": "markdown",
   "metadata": {},
   "source": [
    "Comprobamos que los cambios se hayan realizado"
   ]
  },
  {
   "cell_type": "code",
   "execution_count": 15,
   "metadata": {},
   "outputs": [
    {
     "data": {
      "text/plain": [
       "inspection_id               int64\n",
       "dba_name                   object\n",
       "aka_name                   object\n",
       "license_#                 float64\n",
       "facility_type              object\n",
       "risk                       object\n",
       "address                    object\n",
       "city                       object\n",
       "state                      object\n",
       "zip                       float64\n",
       "inspection_date    datetime64[ns]\n",
       "inspection_type            object\n",
       "results                    object\n",
       "violations                 object\n",
       "latitude                  float64\n",
       "longitude                 float64\n",
       "location                   object\n",
       "dtype: object"
      ]
     },
     "execution_count": 15,
     "metadata": {},
     "output_type": "execute_result"
    }
   ],
   "source": [
    "df_food.dtypes"
   ]
  },
  {
   "cell_type": "code",
   "execution_count": 16,
   "metadata": {},
   "outputs": [
    {
     "data": {
      "text/plain": [
       "0   2021-01-07\n",
       "1   2020-10-20\n",
       "2   2020-08-28\n",
       "3   2020-08-27\n",
       "4   2020-08-26\n",
       "Name: inspection_date, dtype: datetime64[ns]"
      ]
     },
     "execution_count": 16,
     "metadata": {},
     "output_type": "execute_result"
    }
   ],
   "source": [
    "df_food.inspection_date.head()"
   ]
  },
  {
   "cell_type": "markdown",
   "metadata": {},
   "source": [
    "## Data Profiling"
   ]
  },
  {
   "cell_type": "markdown",
   "metadata": {},
   "source": [
    "¿Cuántas variables tenemos inicialmente?"
   ]
  },
  {
   "cell_type": "code",
   "execution_count": 17,
   "metadata": {},
   "outputs": [
    {
     "data": {
      "text/plain": [
       "17"
      ]
     },
     "execution_count": 17,
     "metadata": {},
     "output_type": "execute_result"
    }
   ],
   "source": [
    "len(df_food.columns)"
   ]
  },
  {
   "cell_type": "markdown",
   "metadata": {},
   "source": [
    "¿Cuántas observaciones tenemos inicialmente? (19-enero-2021)"
   ]
  },
  {
   "cell_type": "code",
   "execution_count": 18,
   "metadata": {},
   "outputs": [
    {
     "data": {
      "text/plain": [
       "215130"
      ]
     },
     "execution_count": 18,
     "metadata": {},
     "output_type": "execute_result"
    }
   ],
   "source": [
    "len(df_food)"
   ]
  },
  {
   "cell_type": "code",
   "execution_count": 19,
   "metadata": {},
   "outputs": [
    {
     "data": {
      "text/plain": [
       "inspection_id               int64\n",
       "dba_name                   object\n",
       "aka_name                   object\n",
       "license_#                 float64\n",
       "facility_type              object\n",
       "risk                       object\n",
       "address                    object\n",
       "city                       object\n",
       "state                      object\n",
       "zip                       float64\n",
       "inspection_date    datetime64[ns]\n",
       "inspection_type            object\n",
       "results                    object\n",
       "violations                 object\n",
       "latitude                  float64\n",
       "longitude                 float64\n",
       "location                   object\n",
       "dtype: object"
      ]
     },
     "execution_count": 19,
     "metadata": {},
     "output_type": "execute_result"
    }
   ],
   "source": [
    "df_food.dtypes"
   ]
  },
  {
   "cell_type": "markdown",
   "metadata": {},
   "source": [
    "Obtenemos las variables con las que trabajaremos el Data profiling."
   ]
  },
  {
   "cell_type": "code",
   "execution_count": 20,
   "metadata": {},
   "outputs": [],
   "source": [
    "dicVar = getVariables(df_food)"
   ]
  },
  {
   "cell_type": "code",
   "execution_count": 21,
   "metadata": {},
   "outputs": [
    {
     "data": {
      "text/plain": [
       "{'num_var': (5,\n",
       "  array(['inspection_id', 'license_#', 'zip', 'latitude', 'longitude'],\n",
       "        dtype=object)),\n",
       " 'date_var': (1, array(['inspection_date'], dtype=object)),\n",
       " 'cat_var': (0, array([], dtype=object)),\n",
       " 'str_var': (11,\n",
       "  array(['dba_name', 'aka_name', 'facility_type', 'risk', 'address', 'city',\n",
       "         'state', 'inspection_type', 'results', 'violations', 'location'],\n",
       "        dtype=object))}"
      ]
     },
     "execution_count": 21,
     "metadata": {},
     "output_type": "execute_result"
    }
   ],
   "source": [
    "dicVar"
   ]
  },
  {
   "cell_type": "markdown",
   "metadata": {},
   "source": [
    "### Variables Categóricas"
   ]
  },
  {
   "cell_type": "code",
   "execution_count": 22,
   "metadata": {},
   "outputs": [
    {
     "data": {
      "text/html": [
       "<div>\n",
       "<style scoped>\n",
       "    .dataframe tbody tr th:only-of-type {\n",
       "        vertical-align: middle;\n",
       "    }\n",
       "\n",
       "    .dataframe tbody tr th {\n",
       "        vertical-align: top;\n",
       "    }\n",
       "\n",
       "    .dataframe thead th {\n",
       "        text-align: right;\n",
       "    }\n",
       "</style>\n",
       "<table border=\"1\" class=\"dataframe\">\n",
       "  <thead>\n",
       "    <tr style=\"text-align: right;\">\n",
       "      <th>metrica</th>\n",
       "      <th>dba_name</th>\n",
       "      <th>aka_name</th>\n",
       "      <th>facility_type</th>\n",
       "      <th>risk</th>\n",
       "      <th>address</th>\n",
       "      <th>city</th>\n",
       "      <th>state</th>\n",
       "      <th>inspection_type</th>\n",
       "      <th>results</th>\n",
       "      <th>violations</th>\n",
       "      <th>location</th>\n",
       "    </tr>\n",
       "  </thead>\n",
       "  <tbody>\n",
       "    <tr>\n",
       "      <th>registros</th>\n",
       "      <td>215130</td>\n",
       "      <td>215130</td>\n",
       "      <td>215130</td>\n",
       "      <td>215130</td>\n",
       "      <td>215130</td>\n",
       "      <td>215130</td>\n",
       "      <td>215130</td>\n",
       "      <td>215130</td>\n",
       "      <td>215130</td>\n",
       "      <td>215130</td>\n",
       "      <td>215130</td>\n",
       "    </tr>\n",
       "    <tr>\n",
       "      <th>nulos</th>\n",
       "      <td>0</td>\n",
       "      <td>2487</td>\n",
       "      <td>4892</td>\n",
       "      <td>69</td>\n",
       "      <td>0</td>\n",
       "      <td>158</td>\n",
       "      <td>50</td>\n",
       "      <td>1</td>\n",
       "      <td>0</td>\n",
       "      <td>57447</td>\n",
       "      <td>710</td>\n",
       "    </tr>\n",
       "    <tr>\n",
       "      <th>Num_categorias</th>\n",
       "      <td>28753</td>\n",
       "      <td>27360</td>\n",
       "      <td>500</td>\n",
       "      <td>4</td>\n",
       "      <td>18525</td>\n",
       "      <td>70</td>\n",
       "      <td>4</td>\n",
       "      <td>110</td>\n",
       "      <td>7</td>\n",
       "      <td>156734</td>\n",
       "      <td>17248</td>\n",
       "    </tr>\n",
       "    <tr>\n",
       "      <th>categorias</th>\n",
       "      <td>[PHILZ COFFEE, BIAN, JIN JU, LA BIZNAGA #2, MC...</td>\n",
       "      <td>[PHILZ COFFEE, BIAN, JIN JU, LA BIZNAGA #2, MC...</td>\n",
       "      <td>[nan, Restaurant, GENERAL STORE, Children's Se...</td>\n",
       "      <td>[Risk 2 (Medium), Risk 1 (High), Risk 3 (Low),...</td>\n",
       "      <td>[1555 N WELLS ST , 600 W CHICAGO AVE , 5203 N ...</td>\n",
       "      <td>[CHICAGO, Chicago, SCHAUMBURG, ELMHURST, CHICA...</td>\n",
       "      <td>[IL, nan, NY, IN, WI]</td>\n",
       "      <td>[License, Canvass, Complaint, Short Form Compl...</td>\n",
       "      <td>[Not Ready, Pass, No Entry, Out of Business, F...</td>\n",
       "      <td>[nan, 3. MANAGEMENT, FOOD EMPLOYEE AND CONDITI...</td>\n",
       "      <td>[(-87.63455069145124, 41.910736031820235), (-8...</td>\n",
       "    </tr>\n",
       "    <tr>\n",
       "      <th>moda</th>\n",
       "      <td>SUBWAY</td>\n",
       "      <td>SUBWAY</td>\n",
       "      <td>Restaurant</td>\n",
       "      <td>Risk 1 (High)</td>\n",
       "      <td>11601 W TOUHY AVE</td>\n",
       "      <td>CHICAGO</td>\n",
       "      <td>IL</td>\n",
       "      <td>Canvass</td>\n",
       "      <td>Pass</td>\n",
       "      <td>32. FOOD AND NON-FOOD CONTACT SURFACES PROPERL...</td>\n",
       "      <td>(-87.91442843927047, 42.008536400868735)</td>\n",
       "    </tr>\n",
       "    <tr>\n",
       "      <th>top1</th>\n",
       "      <td>SUBWAY</td>\n",
       "      <td>SUBWAY</td>\n",
       "      <td>Restaurant</td>\n",
       "      <td>Risk 1 (High)</td>\n",
       "      <td>11601 W TOUHY AVE</td>\n",
       "      <td>CHICAGO</td>\n",
       "      <td>IL</td>\n",
       "      <td>Canvass</td>\n",
       "      <td>Pass</td>\n",
       "      <td>32. FOOD AND NON-FOOD CONTACT SURFACES PROPERL...</td>\n",
       "      <td>(-87.91442843927047, 42.008536400868735)</td>\n",
       "    </tr>\n",
       "    <tr>\n",
       "      <th>f1</th>\n",
       "      <td>2908</td>\n",
       "      <td>3568</td>\n",
       "      <td>143249</td>\n",
       "      <td>153869</td>\n",
       "      <td>2674</td>\n",
       "      <td>214227</td>\n",
       "      <td>215077</td>\n",
       "      <td>114250</td>\n",
       "      <td>112641</td>\n",
       "      <td>11</td>\n",
       "      <td>2691</td>\n",
       "    </tr>\n",
       "    <tr>\n",
       "      <th>top2</th>\n",
       "      <td>DUNKIN DONUTS</td>\n",
       "      <td>DUNKIN DONUTS</td>\n",
       "      <td>Grocery Store</td>\n",
       "      <td>Risk 2 (Medium)</td>\n",
       "      <td>5700 S CICERO AVE</td>\n",
       "      <td>Chicago</td>\n",
       "      <td>WI</td>\n",
       "      <td>License</td>\n",
       "      <td>Fail</td>\n",
       "      <td>30. FOOD IN ORIGINAL CONTAINER, PROPERLY LABEL...</td>\n",
       "      <td>(-87.74164564419637, 41.789329323265385)</td>\n",
       "    </tr>\n",
       "    <tr>\n",
       "      <th>f2</th>\n",
       "      <td>1578</td>\n",
       "      <td>1586</td>\n",
       "      <td>28093</td>\n",
       "      <td>41978</td>\n",
       "      <td>593</td>\n",
       "      <td>347</td>\n",
       "      <td>1</td>\n",
       "      <td>28302</td>\n",
       "      <td>41527</td>\n",
       "      <td>10</td>\n",
       "      <td>593</td>\n",
       "    </tr>\n",
       "    <tr>\n",
       "      <th>top3</th>\n",
       "      <td>MCDONALD'S</td>\n",
       "      <td>7-ELEVEN</td>\n",
       "      <td>School</td>\n",
       "      <td>Risk 3 (Low)</td>\n",
       "      <td>500 W MADISON ST</td>\n",
       "      <td>chicago</td>\n",
       "      <td>IN</td>\n",
       "      <td>Canvass Re-Inspection</td>\n",
       "      <td>Pass w/ Conditions</td>\n",
       "      <td>45. FOOD HANDLER REQUIREMENTS MET - Comments: ...</td>\n",
       "      <td>(-87.64111966683218, 41.884187507127805)</td>\n",
       "    </tr>\n",
       "    <tr>\n",
       "      <th>f3</th>\n",
       "      <td>614</td>\n",
       "      <td>882</td>\n",
       "      <td>13206</td>\n",
       "      <td>19185</td>\n",
       "      <td>465</td>\n",
       "      <td>111</td>\n",
       "      <td>1</td>\n",
       "      <td>22836</td>\n",
       "      <td>32550</td>\n",
       "      <td>10</td>\n",
       "      <td>507</td>\n",
       "    </tr>\n",
       "  </tbody>\n",
       "</table>\n",
       "</div>"
      ],
      "text/plain": [
       "metrica                                                  dba_name  \\\n",
       "registros                                                  215130   \n",
       "nulos                                                           0   \n",
       "Num_categorias                                              28753   \n",
       "categorias      [PHILZ COFFEE, BIAN, JIN JU, LA BIZNAGA #2, MC...   \n",
       "moda                                                       SUBWAY   \n",
       "top1                                                       SUBWAY   \n",
       "f1                                                           2908   \n",
       "top2                                                DUNKIN DONUTS   \n",
       "f2                                                           1578   \n",
       "top3                                                   MCDONALD'S   \n",
       "f3                                                            614   \n",
       "\n",
       "metrica                                                  aka_name  \\\n",
       "registros                                                  215130   \n",
       "nulos                                                        2487   \n",
       "Num_categorias                                              27360   \n",
       "categorias      [PHILZ COFFEE, BIAN, JIN JU, LA BIZNAGA #2, MC...   \n",
       "moda                                                       SUBWAY   \n",
       "top1                                                       SUBWAY   \n",
       "f1                                                           3568   \n",
       "top2                                                DUNKIN DONUTS   \n",
       "f2                                                           1586   \n",
       "top3                                                     7-ELEVEN   \n",
       "f3                                                            882   \n",
       "\n",
       "metrica                                             facility_type  \\\n",
       "registros                                                  215130   \n",
       "nulos                                                        4892   \n",
       "Num_categorias                                                500   \n",
       "categorias      [nan, Restaurant, GENERAL STORE, Children's Se...   \n",
       "moda                                                   Restaurant   \n",
       "top1                                                   Restaurant   \n",
       "f1                                                         143249   \n",
       "top2                                                Grocery Store   \n",
       "f2                                                          28093   \n",
       "top3                                                       School   \n",
       "f3                                                          13206   \n",
       "\n",
       "metrica                                                      risk  \\\n",
       "registros                                                  215130   \n",
       "nulos                                                          69   \n",
       "Num_categorias                                                  4   \n",
       "categorias      [Risk 2 (Medium), Risk 1 (High), Risk 3 (Low),...   \n",
       "moda                                                Risk 1 (High)   \n",
       "top1                                                Risk 1 (High)   \n",
       "f1                                                         153869   \n",
       "top2                                              Risk 2 (Medium)   \n",
       "f2                                                          41978   \n",
       "top3                                                 Risk 3 (Low)   \n",
       "f3                                                          19185   \n",
       "\n",
       "metrica                                                   address  \\\n",
       "registros                                                  215130   \n",
       "nulos                                                           0   \n",
       "Num_categorias                                              18525   \n",
       "categorias      [1555 N WELLS ST , 600 W CHICAGO AVE , 5203 N ...   \n",
       "moda                                           11601 W TOUHY AVE    \n",
       "top1                                           11601 W TOUHY AVE    \n",
       "f1                                                           2674   \n",
       "top2                                           5700 S CICERO AVE    \n",
       "f2                                                            593   \n",
       "top3                                            500 W MADISON ST    \n",
       "f3                                                            465   \n",
       "\n",
       "metrica                                                      city  \\\n",
       "registros                                                  215130   \n",
       "nulos                                                         158   \n",
       "Num_categorias                                                 70   \n",
       "categorias      [CHICAGO, Chicago, SCHAUMBURG, ELMHURST, CHICA...   \n",
       "moda                                                      CHICAGO   \n",
       "top1                                                      CHICAGO   \n",
       "f1                                                         214227   \n",
       "top2                                                      Chicago   \n",
       "f2                                                            347   \n",
       "top3                                                      chicago   \n",
       "f3                                                            111   \n",
       "\n",
       "metrica                         state  \\\n",
       "registros                      215130   \n",
       "nulos                              50   \n",
       "Num_categorias                      4   \n",
       "categorias      [IL, nan, NY, IN, WI]   \n",
       "moda                               IL   \n",
       "top1                               IL   \n",
       "f1                             215077   \n",
       "top2                               WI   \n",
       "f2                                  1   \n",
       "top3                               IN   \n",
       "f3                                  1   \n",
       "\n",
       "metrica                                           inspection_type  \\\n",
       "registros                                                  215130   \n",
       "nulos                                                           1   \n",
       "Num_categorias                                                110   \n",
       "categorias      [License, Canvass, Complaint, Short Form Compl...   \n",
       "moda                                                      Canvass   \n",
       "top1                                                      Canvass   \n",
       "f1                                                         114250   \n",
       "top2                                                      License   \n",
       "f2                                                          28302   \n",
       "top3                                        Canvass Re-Inspection   \n",
       "f3                                                          22836   \n",
       "\n",
       "metrica                                                   results  \\\n",
       "registros                                                  215130   \n",
       "nulos                                                           0   \n",
       "Num_categorias                                                  7   \n",
       "categorias      [Not Ready, Pass, No Entry, Out of Business, F...   \n",
       "moda                                                         Pass   \n",
       "top1                                                         Pass   \n",
       "f1                                                         112641   \n",
       "top2                                                         Fail   \n",
       "f2                                                          41527   \n",
       "top3                                           Pass w/ Conditions   \n",
       "f3                                                          32550   \n",
       "\n",
       "metrica                                                violations  \\\n",
       "registros                                                  215130   \n",
       "nulos                                                       57447   \n",
       "Num_categorias                                             156734   \n",
       "categorias      [nan, 3. MANAGEMENT, FOOD EMPLOYEE AND CONDITI...   \n",
       "moda            32. FOOD AND NON-FOOD CONTACT SURFACES PROPERL...   \n",
       "top1            32. FOOD AND NON-FOOD CONTACT SURFACES PROPERL...   \n",
       "f1                                                             11   \n",
       "top2            30. FOOD IN ORIGINAL CONTAINER, PROPERLY LABEL...   \n",
       "f2                                                             10   \n",
       "top3            45. FOOD HANDLER REQUIREMENTS MET - Comments: ...   \n",
       "f3                                                             10   \n",
       "\n",
       "metrica                                                  location  \n",
       "registros                                                  215130  \n",
       "nulos                                                         710  \n",
       "Num_categorias                                              17248  \n",
       "categorias      [(-87.63455069145124, 41.910736031820235), (-8...  \n",
       "moda                     (-87.91442843927047, 42.008536400868735)  \n",
       "top1                     (-87.91442843927047, 42.008536400868735)  \n",
       "f1                                                           2691  \n",
       "top2                     (-87.74164564419637, 41.789329323265385)  \n",
       "f2                                                            593  \n",
       "top3                     (-87.64111966683218, 41.884187507127805)  \n",
       "f3                                                            507  "
      ]
     },
     "execution_count": 22,
     "metadata": {},
     "output_type": "execute_result"
    }
   ],
   "source": [
    "data_profiling_categ(df_food,dicVar['str_var'][1])"
   ]
  },
  {
   "cell_type": "markdown",
   "metadata": {},
   "source": [
    "### Variables Numéricas"
   ]
  },
  {
   "cell_type": "code",
   "execution_count": 23,
   "metadata": {},
   "outputs": [
    {
     "data": {
      "text/html": [
       "<div>\n",
       "<style scoped>\n",
       "    .dataframe tbody tr th:only-of-type {\n",
       "        vertical-align: middle;\n",
       "    }\n",
       "\n",
       "    .dataframe tbody tr th {\n",
       "        vertical-align: top;\n",
       "    }\n",
       "\n",
       "    .dataframe thead th {\n",
       "        text-align: right;\n",
       "    }\n",
       "</style>\n",
       "<table border=\"1\" class=\"dataframe\">\n",
       "  <thead>\n",
       "    <tr style=\"text-align: right;\">\n",
       "      <th>metricas</th>\n",
       "      <th>inspection_id</th>\n",
       "      <th>license_#</th>\n",
       "      <th>zip</th>\n",
       "      <th>latitude</th>\n",
       "      <th>longitude</th>\n",
       "    </tr>\n",
       "  </thead>\n",
       "  <tbody>\n",
       "    <tr>\n",
       "      <th>registros</th>\n",
       "      <td>215130</td>\n",
       "      <td>215113</td>\n",
       "      <td>215078</td>\n",
       "      <td>214420</td>\n",
       "      <td>214420</td>\n",
       "    </tr>\n",
       "    <tr>\n",
       "      <th>nulos</th>\n",
       "      <td>0</td>\n",
       "      <td>17</td>\n",
       "      <td>52</td>\n",
       "      <td>710</td>\n",
       "      <td>710</td>\n",
       "    </tr>\n",
       "    <tr>\n",
       "      <th>unicos</th>\n",
       "      <td>215130</td>\n",
       "      <td>39111</td>\n",
       "      <td>112</td>\n",
       "      <td>17248</td>\n",
       "      <td>17248</td>\n",
       "    </tr>\n",
       "    <tr>\n",
       "      <th>moda</th>\n",
       "      <td>valores unicos</td>\n",
       "      <td>0</td>\n",
       "      <td>60614</td>\n",
       "      <td>42.0085</td>\n",
       "      <td>-87.9144</td>\n",
       "    </tr>\n",
       "    <tr>\n",
       "      <th>min</th>\n",
       "      <td>44247</td>\n",
       "      <td>0</td>\n",
       "      <td>10014</td>\n",
       "      <td>41.6447</td>\n",
       "      <td>-87.9144</td>\n",
       "    </tr>\n",
       "    <tr>\n",
       "      <th>max</th>\n",
       "      <td>2.47278e+06</td>\n",
       "      <td>1e+07</td>\n",
       "      <td>60827</td>\n",
       "      <td>42.0211</td>\n",
       "      <td>-87.5251</td>\n",
       "    </tr>\n",
       "    <tr>\n",
       "      <th>mean</th>\n",
       "      <td>1.52887e+06</td>\n",
       "      <td>1.63034e+06</td>\n",
       "      <td>60628.8</td>\n",
       "      <td>41.8809</td>\n",
       "      <td>-87.6764</td>\n",
       "    </tr>\n",
       "    <tr>\n",
       "      <th>stdv</th>\n",
       "      <td>661474</td>\n",
       "      <td>902765</td>\n",
       "      <td>116.778</td>\n",
       "      <td>0.0810259</td>\n",
       "      <td>0.0585266</td>\n",
       "    </tr>\n",
       "    <tr>\n",
       "      <th>25%</th>\n",
       "      <td>1.18871e+06</td>\n",
       "      <td>1.24775e+06</td>\n",
       "      <td>60614</td>\n",
       "      <td>41.8326</td>\n",
       "      <td>-87.7073</td>\n",
       "    </tr>\n",
       "    <tr>\n",
       "      <th>median</th>\n",
       "      <td>1.52817e+06</td>\n",
       "      <td>1.99222e+06</td>\n",
       "      <td>60625</td>\n",
       "      <td>41.8919</td>\n",
       "      <td>-87.6664</td>\n",
       "    </tr>\n",
       "    <tr>\n",
       "      <th>75%</th>\n",
       "      <td>2.10462e+06</td>\n",
       "      <td>2.27836e+06</td>\n",
       "      <td>60643</td>\n",
       "      <td>41.9398</td>\n",
       "      <td>-87.635</td>\n",
       "    </tr>\n",
       "    <tr>\n",
       "      <th>kurtosis</th>\n",
       "      <td>-0.722874</td>\n",
       "      <td>-0.533827</td>\n",
       "      <td>165217</td>\n",
       "      <td>-0.350778</td>\n",
       "      <td>2.4257</td>\n",
       "    </tr>\n",
       "    <tr>\n",
       "      <th>skewness</th>\n",
       "      <td>-0.53897</td>\n",
       "      <td>-0.882125</td>\n",
       "      <td>-388.436</td>\n",
       "      <td>-0.589562</td>\n",
       "      <td>-1.04636</td>\n",
       "    </tr>\n",
       "    <tr>\n",
       "      <th>top1</th>\n",
       "      <td>2.0992e+06</td>\n",
       "      <td>0</td>\n",
       "      <td>60614</td>\n",
       "      <td>42.0085</td>\n",
       "      <td>-87.9144</td>\n",
       "    </tr>\n",
       "    <tr>\n",
       "      <th>f1</th>\n",
       "      <td>1</td>\n",
       "      <td>545</td>\n",
       "      <td>8133</td>\n",
       "      <td>2691</td>\n",
       "      <td>2691</td>\n",
       "    </tr>\n",
       "    <tr>\n",
       "      <th>top2</th>\n",
       "      <td>614242</td>\n",
       "      <td>1.35432e+06</td>\n",
       "      <td>60647</td>\n",
       "      <td>41.7893</td>\n",
       "      <td>-87.7416</td>\n",
       "    </tr>\n",
       "    <tr>\n",
       "      <th>f2</th>\n",
       "      <td>1</td>\n",
       "      <td>198</td>\n",
       "      <td>7828</td>\n",
       "      <td>593</td>\n",
       "      <td>593</td>\n",
       "    </tr>\n",
       "    <tr>\n",
       "      <th>top3</th>\n",
       "      <td>1.47394e+06</td>\n",
       "      <td>14616</td>\n",
       "      <td>60657</td>\n",
       "      <td>41.8842</td>\n",
       "      <td>-87.6411</td>\n",
       "    </tr>\n",
       "    <tr>\n",
       "      <th>f3</th>\n",
       "      <td>1</td>\n",
       "      <td>176</td>\n",
       "      <td>7485</td>\n",
       "      <td>507</td>\n",
       "      <td>507</td>\n",
       "    </tr>\n",
       "  </tbody>\n",
       "</table>\n",
       "</div>"
      ],
      "text/plain": [
       "metricas    inspection_id    license_#      zip   latitude  longitude\n",
       "registros          215130       215113   215078     214420     214420\n",
       "nulos                   0           17       52        710        710\n",
       "unicos             215130        39111      112      17248      17248\n",
       "moda       valores unicos            0    60614    42.0085   -87.9144\n",
       "min                 44247            0    10014    41.6447   -87.9144\n",
       "max           2.47278e+06        1e+07    60827    42.0211   -87.5251\n",
       "mean          1.52887e+06  1.63034e+06  60628.8    41.8809   -87.6764\n",
       "stdv               661474       902765  116.778  0.0810259  0.0585266\n",
       "25%           1.18871e+06  1.24775e+06    60614    41.8326   -87.7073\n",
       "median        1.52817e+06  1.99222e+06    60625    41.8919   -87.6664\n",
       "75%           2.10462e+06  2.27836e+06    60643    41.9398    -87.635\n",
       "kurtosis        -0.722874    -0.533827   165217  -0.350778     2.4257\n",
       "skewness         -0.53897    -0.882125 -388.436  -0.589562   -1.04636\n",
       "top1           2.0992e+06            0    60614    42.0085   -87.9144\n",
       "f1                      1          545     8133       2691       2691\n",
       "top2               614242  1.35432e+06    60647    41.7893   -87.7416\n",
       "f2                      1          198     7828        593        593\n",
       "top3          1.47394e+06        14616    60657    41.8842   -87.6411\n",
       "f3                      1          176     7485        507        507"
      ]
     },
     "execution_count": 23,
     "metadata": {},
     "output_type": "execute_result"
    }
   ],
   "source": [
    "data_profiling_num(df_food,dicVar['num_var'][1])"
   ]
  },
  {
   "cell_type": "markdown",
   "metadata": {},
   "source": [
    "### Variables de Fechas"
   ]
  },
  {
   "cell_type": "code",
   "execution_count": 24,
   "metadata": {},
   "outputs": [
    {
     "data": {
      "text/html": [
       "<div>\n",
       "<style scoped>\n",
       "    .dataframe tbody tr th:only-of-type {\n",
       "        vertical-align: middle;\n",
       "    }\n",
       "\n",
       "    .dataframe tbody tr th {\n",
       "        vertical-align: top;\n",
       "    }\n",
       "\n",
       "    .dataframe thead th {\n",
       "        text-align: right;\n",
       "    }\n",
       "</style>\n",
       "<table border=\"1\" class=\"dataframe\">\n",
       "  <thead>\n",
       "    <tr style=\"text-align: right;\">\n",
       "      <th>metricas</th>\n",
       "      <th>inspection_date</th>\n",
       "    </tr>\n",
       "  </thead>\n",
       "  <tbody>\n",
       "    <tr>\n",
       "      <th>tipo dato</th>\n",
       "      <td>&lt;class 'numpy.datetime64'&gt;</td>\n",
       "    </tr>\n",
       "    <tr>\n",
       "      <th>registros</th>\n",
       "      <td>215130</td>\n",
       "    </tr>\n",
       "    <tr>\n",
       "      <th>nulos</th>\n",
       "      <td>0</td>\n",
       "    </tr>\n",
       "    <tr>\n",
       "      <th>unicos</th>\n",
       "      <td>2797</td>\n",
       "    </tr>\n",
       "    <tr>\n",
       "      <th>moda</th>\n",
       "      <td>0   2013-11-14\n",
       "dtype: datetime64[ns]</td>\n",
       "    </tr>\n",
       "    <tr>\n",
       "      <th>fecha inicio</th>\n",
       "      <td>2010-01-04 00:00:00</td>\n",
       "    </tr>\n",
       "    <tr>\n",
       "      <th>fecha fin</th>\n",
       "      <td>2021-01-15 00:00:00</td>\n",
       "    </tr>\n",
       "    <tr>\n",
       "      <th>top1</th>\n",
       "      <td>2013-11-14 00:00:00</td>\n",
       "    </tr>\n",
       "    <tr>\n",
       "      <th>f1</th>\n",
       "      <td>185</td>\n",
       "    </tr>\n",
       "    <tr>\n",
       "      <th>top2</th>\n",
       "      <td>2016-09-13 00:00:00</td>\n",
       "    </tr>\n",
       "    <tr>\n",
       "      <th>f2</th>\n",
       "      <td>149</td>\n",
       "    </tr>\n",
       "    <tr>\n",
       "      <th>top3</th>\n",
       "      <td>2016-11-29 00:00:00</td>\n",
       "    </tr>\n",
       "    <tr>\n",
       "      <th>f3</th>\n",
       "      <td>145</td>\n",
       "    </tr>\n",
       "  </tbody>\n",
       "</table>\n",
       "</div>"
      ],
      "text/plain": [
       "metricas                           inspection_date\n",
       "tipo dato               <class 'numpy.datetime64'>\n",
       "registros                                   215130\n",
       "nulos                                            0\n",
       "unicos                                        2797\n",
       "moda          0   2013-11-14\n",
       "dtype: datetime64[ns]\n",
       "fecha inicio                   2010-01-04 00:00:00\n",
       "fecha fin                      2021-01-15 00:00:00\n",
       "top1                           2013-11-14 00:00:00\n",
       "f1                                             185\n",
       "top2                           2016-09-13 00:00:00\n",
       "f2                                             149\n",
       "top3                           2016-11-29 00:00:00\n",
       "f3                                             145"
      ]
     },
     "execution_count": 24,
     "metadata": {},
     "output_type": "execute_result"
    }
   ],
   "source": [
    "data_profiling_date(df_food,dicVar['date_var'][1])"
   ]
  },
  {
   "cell_type": "markdown",
   "metadata": {},
   "source": [
    "## GEDA"
   ]
  },
  {
   "cell_type": "markdown",
   "metadata": {},
   "source": [
    "### Risk"
   ]
  },
  {
   "cell_type": "code",
   "execution_count": 31,
   "metadata": {},
   "outputs": [],
   "source": [
    "def number_formatter(number, pos=None):\n",
    "    \"\"\"Convert a number into a human readable format.\"\"\"\n",
    "    magnitude = 0\n",
    "    while abs(number) >= 1000:\n",
    "        magnitude += 1\n",
    "        number /= 1000.0\n",
    "    return '%.1f%s' % (number, ['', 'K', 'M', 'B', 'T', 'Q'][magnitude])"
   ]
  },
  {
   "cell_type": "code",
   "execution_count": 25,
   "metadata": {},
   "outputs": [],
   "source": [
    "riesgo = df_food.groupby(['risk'],as_index=False)['inspection_id'].count()\\\n",
    "                                .rename(columns={\"inspection_id\": 'registros'})"
   ]
  },
  {
   "cell_type": "code",
   "execution_count": 26,
   "metadata": {},
   "outputs": [],
   "source": [
    "riesgo['proporcion'] = 100*riesgo['registros']/riesgo['registros'].sum()"
   ]
  },
  {
   "cell_type": "code",
   "execution_count": 27,
   "metadata": {},
   "outputs": [
    {
     "data": {
      "text/html": [
       "<div>\n",
       "<style scoped>\n",
       "    .dataframe tbody tr th:only-of-type {\n",
       "        vertical-align: middle;\n",
       "    }\n",
       "\n",
       "    .dataframe tbody tr th {\n",
       "        vertical-align: top;\n",
       "    }\n",
       "\n",
       "    .dataframe thead th {\n",
       "        text-align: right;\n",
       "    }\n",
       "</style>\n",
       "<table border=\"1\" class=\"dataframe\">\n",
       "  <thead>\n",
       "    <tr style=\"text-align: right;\">\n",
       "      <th></th>\n",
       "      <th>risk</th>\n",
       "      <th>registros</th>\n",
       "      <th>proporcion</th>\n",
       "    </tr>\n",
       "  </thead>\n",
       "  <tbody>\n",
       "    <tr>\n",
       "      <th>0</th>\n",
       "      <td>All</td>\n",
       "      <td>29</td>\n",
       "      <td>0.013485</td>\n",
       "    </tr>\n",
       "    <tr>\n",
       "      <th>1</th>\n",
       "      <td>Risk 1 (High)</td>\n",
       "      <td>153869</td>\n",
       "      <td>71.546677</td>\n",
       "    </tr>\n",
       "    <tr>\n",
       "      <th>2</th>\n",
       "      <td>Risk 2 (Medium)</td>\n",
       "      <td>41978</td>\n",
       "      <td>19.519113</td>\n",
       "    </tr>\n",
       "    <tr>\n",
       "      <th>3</th>\n",
       "      <td>Risk 3 (Low)</td>\n",
       "      <td>19185</td>\n",
       "      <td>8.920725</td>\n",
       "    </tr>\n",
       "  </tbody>\n",
       "</table>\n",
       "</div>"
      ],
      "text/plain": [
       "              risk  registros  proporcion\n",
       "0              All         29    0.013485\n",
       "1    Risk 1 (High)     153869   71.546677\n",
       "2  Risk 2 (Medium)      41978   19.519113\n",
       "3     Risk 3 (Low)      19185    8.920725"
      ]
     },
     "execution_count": 27,
     "metadata": {},
     "output_type": "execute_result"
    }
   ],
   "source": [
    "riesgo"
   ]
  },
  {
   "cell_type": "code",
   "execution_count": 34,
   "metadata": {},
   "outputs": [
    {
     "name": "stderr",
     "output_type": "stream",
     "text": [
      "<ipython-input-34-47952ec6701e>:8: UserWarning: FixedFormatter should only be used together with FixedLocator\n",
      "  a.set_xticklabels(a.get_xticklabels())\n"
     ]
    },
    {
     "data": {
      "image/png": "[encoded data removed]",
      "text/plain": [
       "<Figure size 432x288 with 1 Axes>"
      ]
     },
     "metadata": {
      "needs_background": "light"
     },
     "output_type": "display_data"
    }
   ],
   "source": [
    "a = sns.barplot(x='proporcion',\n",
    "                y='risk',\n",
    "                data=riesgo.sort_values(by=\"proporcion\", ascending=False),\n",
    "                color=\"skyblue\"\n",
    "                )\n",
    "\n",
    "a.set_title(\"Porcentaje de riesgo \")\n",
    "a.set_xticklabels(a.get_xticklabels())\n",
    "a.xaxis.set_major_formatter(FuncFormatter(number_formatter))"
   ]
  },
  {
   "cell_type": "markdown",
   "metadata": {},
   "source": [
    "En esta gráfica se observa que el 71% de los establecimientos cuentan con un riesgo alto de no pasar la inspección, el 20% de los establecimientos tienen un riesgo medio y el 9% tienen un riesgo bajo. Finalmente, notamos que 29 establecimientos están catalogados con riesgo \"Todos\"; analizando estos establecimientos notamos lo siguiente\n",
    "\n",
    "**Resultado:**\n",
    "\n",
    "+ 13 no tenían resultado aún.\n",
    "+ 6 de los establecimientos estaban fuera de servicio\n",
    "+ 5 establecimientos no pasaron la inspección\n",
    "+ 4 no se le dio entrada a los inspectores\n",
    "+ 1 establecimiento no se ubicó.\n",
    "\n",
    "**Tipo establecimiento:**\n",
    "\n",
    "+ 8 establecimientos son restaurantes\n",
    "+ 2 establecimientos son tiendas de abarrotes\n",
    "+ de los 19 establecimientos restantes no se tiene información.\n",
    "\n",
    "**Ciudad**\n",
    "\n",
    "Los 29 establecimientos se ubican en la ciudad de Chicago.\n",
    "\n",
    "**Violaciones**\n",
    "\n",
    "No se tiene información del tipo de violación que cuenta cada establecimiento.\n",
    "\n",
    "**Tipo de inspección**\n",
    "\n",
    "+ 20 establecimientos son de tipo 'licencia'\n",
    "+ 7 establecimientos de tipo 'sondeo'\n",
    "+ 1 establecimiento de tipo 'queja'\n",
    "+ 1 establecimiento tiene tipo de inspección 'propietario suspendio operación/licencia'"
   ]
  },
  {
   "cell_type": "markdown",
   "metadata": {},
   "source": [
    "### Facility Type"
   ]
  },
  {
   "cell_type": "code",
   "execution_count": 35,
   "metadata": {},
   "outputs": [],
   "source": [
    "establecimientos = df_food.groupby(['facility_type'],as_index=False)['inspection_id'].count()\\\n",
    "                    .rename(columns={\"inspection_id\": 'n'})"
   ]
  },
  {
   "cell_type": "code",
   "execution_count": 36,
   "metadata": {},
   "outputs": [],
   "source": [
    "establecimientos = establecimientos[establecimientos['n']>=200].sort_values('n', ascending = True)"
   ]
  },
  {
   "cell_type": "markdown",
   "metadata": {},
   "source": [
    "Tenemos 501 distintas categorías, seleccionaremos las categorías que tengan al menos 200 observaciones con ese Facility Type. 200 observaciones representan .09% del total de observaciones y considerando estos establecimientos tenemos 205667 observaciones que son aproximadamente el 95% de las observaciones."
   ]
  },
  {
   "cell_type": "code",
   "execution_count": 38,
   "metadata": {},
   "outputs": [
    {
     "data": {
      "image/png": "[encoded data removed]",
      "text/plain": [
       "<Figure size 432x288 with 1 Axes>"
      ]
     },
     "metadata": {
      "needs_background": "light"
     },
     "output_type": "display_data"
    }
   ],
   "source": [
    "fig, ax = plt.subplots()\n",
    "ax.xaxis.set_major_formatter(number_formatter)\n",
    "plt.barh(establecimientos['facility_type'], establecimientos['n'])\n",
    "plt.FuncFormatter(number_formatter)\n",
    "plt.show()"
   ]
  },
  {
   "cell_type": "markdown",
   "metadata": {},
   "source": [
    "Los restaurantes tienen son los establecimientos con más observaciones, seguido de tiendas de abarrotes y escuelas, después de estas tres categorías las siguientes cuentan con un número relativamente pequeño de observaciones pero observamos establecimientos como panaderías, guarderías y banqueterías"
   ]
  },
  {
   "cell_type": "markdown",
   "metadata": {},
   "source": [
    "### Results"
   ]
  },
  {
   "cell_type": "code",
   "execution_count": 50,
   "metadata": {},
   "outputs": [
    {
     "data": {
      "image/png": "[encoded data removed]",
      "text/plain": [
       "<Figure size 432x288 with 1 Axes>"
      ]
     },
     "metadata": {
      "needs_background": "light"
     },
     "output_type": "display_data"
    }
   ],
   "source": [
    "a = sns.countplot(y=\"results\", data=df_food,\n",
    "                  order = df_food['results'].value_counts().index, color=\"skyblue\")\n",
    "a.set_title(\"Frecuencia de resultados de la inspección\")\n",
    "a.set_ylabel(\"Resultados\")\n",
    "a.set_xlabel(\"Frecuencia\")\n",
    "\n",
    "total = len(df_food['results'])\n",
    "for p in a.patches:\n",
    "        percentage = '{:.1f}%'.format(100 * p.get_width()/total)\n",
    "        x = p.get_x() + p.get_width() + 0.02\n",
    "        y = p.get_y() + p.get_height()/2\n",
    "        a.annotate(percentage, (x, y))\n",
    "        \n",
    "a.xaxis.set_major_formatter(FuncFormatter(number_formatter))\n",
    "plt.show()"
   ]
  },
  {
   "cell_type": "code",
   "execution_count": 44,
   "metadata": {},
   "outputs": [],
   "source": [
    "df_aux = df_food.copy()\n",
    "df_aux.results.mask(df_aux.results == 'Pass w/ Conditions', 'Pass', inplace=True)"
   ]
  },
  {
   "cell_type": "code",
   "execution_count": 49,
   "metadata": {},
   "outputs": [
    {
     "data": {
      "image/png": "[encoded data removed]",
      "text/plain": [
       "<Figure size 432x288 with 1 Axes>"
      ]
     },
     "metadata": {
      "needs_background": "light"
     },
     "output_type": "display_data"
    }
   ],
   "source": [
    "b = sns.countplot(y=\"results\", data=df_aux,\n",
    "                  order = df_aux['results'].value_counts().index, color=\"skyblue\")\n",
    "b.set_title(\"Frecuencia de resultados de la inspección tomando Pass w/ Conditions como Pass\")\n",
    "b.set_ylabel(\"Resultados\")\n",
    "b.set_xlabel(\"Frecuencia\")\n",
    "\n",
    "total = len(df_aux['results'])\n",
    "for p in b.patches:\n",
    "        percentage = '{:.1f}%'.format(100 * p.get_width()/total)\n",
    "        x = p.get_x() + p.get_width() + 0.02\n",
    "        y = p.get_y() + p.get_height()/2\n",
    "        b.annotate(percentage, (x, y))\n",
    "\n",
    "b.xaxis.set_major_formatter(FuncFormatter(number_formatter))\n",
    "plt.show()"
   ]
  },
  {
   "cell_type": "markdown",
   "metadata": {},
   "source": [
    "+ En esta columna no se encontró ningún valor faltante\n",
    "\n",
    "+ En el ~67% de las inspecciones el establecimiento pasó la inspección, donde:\n",
    "    + ~15% pasó la inspección condicionalmente\n",
    "    + ~50% pasó la inspección satisfactoriamente\n",
    "+ En el ~19% de las inspecciones el establecimiento reprobó la inspección.\n",
    "+ ~9% de los establecimientos ya había cerrado al momento de la inspección.\n",
    "+ ~3% de los establecimientos no presentan inspección por alguna razón\n",
    "+ ~1% de los estableciemitnos no se encontraban listos para recibir la inspección\n",
    "+ Mientras que muy pocos establciemientos ~0%, no fueron localizados y por lo tanto no se pudo realizar la inspección."
   ]
  },
  {
   "cell_type": "markdown",
   "metadata": {},
   "source": [
    "### Mapa"
   ]
  },
  {
   "cell_type": "code",
   "execution_count": null,
   "metadata": {},
   "outputs": [],
   "source": [
    "BBox = (df_food.longitude.min(),   df_food.longitude.max(),      \n",
    "         df_food.latitude.min(), df_food.latitude.max())"
   ]
  },
  {
   "cell_type": "code",
   "execution_count": null,
   "metadata": {},
   "outputs": [],
   "source": [
    "BBox"
   ]
  },
  {
   "cell_type": "code",
   "execution_count": null,
   "metadata": {},
   "outputs": [],
   "source": [
    "mapa = gpd.read_file(\"/Users/anatorres/Downloads/Boundaries - City/geo_export_22821c4e-ea33-4fe3-9203-9a4af3afa017.shp\")\n",
    "#  falta imagen :("
   ]
  },
  {
   "cell_type": "code",
   "execution_count": null,
   "metadata": {},
   "outputs": [],
   "source": [
    "crs = {'init': 'epsg:4326'}"
   ]
  },
  {
   "cell_type": "code",
   "execution_count": null,
   "metadata": {},
   "outputs": [],
   "source": [
    "geometry = [Point(xy) for xy in zip(df_food[\"longitude\"], df_food[\"latitude\"])]  \n",
    "geometry[:3]"
   ]
  },
  {
   "cell_type": "code",
   "execution_count": null,
   "metadata": {},
   "outputs": [],
   "source": [
    "geo_df = gpd.GeoDataFrame(df_food, crs = crs, geometry = geometry)"
   ]
  },
  {
   "cell_type": "code",
   "execution_count": null,
   "metadata": {},
   "outputs": [],
   "source": [
    "geo_df.head(3)"
   ]
  },
  {
   "cell_type": "code",
   "execution_count": null,
   "metadata": {},
   "outputs": [],
   "source": [
    "fig,ax = plt.subplots(figsize = (12,12))\n",
    "\n",
    "mapa.plot(ax=ax, alpha = 0.5, color = \"grey\")\n",
    "geo_df[geo_df['results']=='Pass'].plot(ax=ax, markersize=10, color=\"olivedrab\", marker=\"o\", label=\"Paso\")\n",
    "geo_df[geo_df['results']=='Fail'].plot(ax=ax, markersize=10, color=\"brown\", marker=\"o\", label=\"No paso\")\n",
    "geo_df[geo_df['results']=='Pass w/conditions'].plot(ax=ax, markersize=5, color=\"light blue\", marker=\"*\", label=\"Paso c/condiciones\")\n",
    "geo_df[geo_df['results']=='Out of Business'].plot(ax=ax, markersize=5, color=\"lightcyan\", marker=\"*\", label=\"Fuera de servicio\")\n",
    "geo_df[geo_df['results']=='No Entry'].plot(ax=ax, markersize=5, color=\"cadetblue\", marker=\"*\", label=\"Sin entrada\")\n",
    "geo_df[geo_df['results']=='Not Ready'].plot(ax=ax, markersize=5, color=\"teal\", marker=\"*\", label=\"Sin resultado\")\n",
    "geo_df[geo_df['results']=='Business Not Located'].plot(ax=ax, markersize= 5, color=\"black\", marker=\"*\", label=\"No se encontró\")\n",
    "\n",
    "plt.legend(prop={'size': 10})"
   ]
  },
  {
   "cell_type": "code",
   "execution_count": null,
   "metadata": {},
   "outputs": [],
   "source": []
  }
 ],
 "metadata": {
  "kernelspec": {
   "display_name": "Python 3",
   "language": "python",
   "name": "python3"
  },
  "language_info": {
   "codemirror_mode": {
    "name": "ipython",
    "version": 3
   },
   "file_extension": ".py",
   "mimetype": "text/x-python",
   "name": "python",
   "nbconvert_exporter": "python",
   "pygments_lexer": "ipython3",
   "version": "3.8.5"
  }
 },
 "nbformat": 4,
 "nbformat_minor": 4
}
