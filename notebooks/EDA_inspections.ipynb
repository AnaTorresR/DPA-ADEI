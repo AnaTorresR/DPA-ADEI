{
 "cells": [
  {
   "cell_type": "code",
   "execution_count": 1,
   "id": "final-series",
   "metadata": {},
   "outputs": [],
   "source": [
    "import pandas as pd\n",
    "import numpy as np\n",
    "import seaborn as sns\n",
    "import matplotlib.pyplot as plt"
   ]
  },
  {
   "cell_type": "code",
   "execution_count": 2,
   "id": "applied-purchase",
   "metadata": {},
   "outputs": [],
   "source": [
    "df = pd.read_csv('../data/Food_Inspections.csv')"
   ]
  },
  {
   "cell_type": "markdown",
   "id": "expanded-calgary",
   "metadata": {},
   "source": [
    "# EDA"
   ]
  },
  {
   "cell_type": "markdown",
   "id": "registered-geology",
   "metadata": {},
   "source": [
    "---"
   ]
  },
  {
   "cell_type": "markdown",
   "id": "shaped-castle",
   "metadata": {},
   "source": [
    "**Funciones auxiliares**"
   ]
  },
  {
   "cell_type": "code",
   "execution_count": 67,
   "id": "bronze-module",
   "metadata": {},
   "outputs": [],
   "source": [
    "def number_formatter(number, pos=None):\n",
    "    \"\"\"Convert a number into a human readable format.\"\"\"\n",
    "    magnitude = 0\n",
    "    while abs(number) >= 1000:\n",
    "        magnitude += 1\n",
    "        number /= 1000.0\n",
    "    return '%.1f%s' % (number, ['', 'K', 'M', 'B', 'T', 'Q'][magnitude])"
   ]
  },
  {
   "cell_type": "code",
   "execution_count": 3,
   "id": "minus-speed",
   "metadata": {},
   "outputs": [],
   "source": [
    "def fast_describe(df, vartype = 'category'):\n",
    "    \"\"\"\n",
    "    Profiling para cualquier tipo de variable \n",
    "    \n",
    "    :df: DataFrame a analizar\n",
    "    :vartype: Tipo de las variables que se quiere analizar\n",
    "    \"\"\"\n",
    "    \n",
    "    cat = df.select_dtypes('category')\n",
    "    obj = df.select_dtypes(np.object)\n",
    "    num = df.select_dtypes(np.number)\n",
    "    dt = df.select_dtypes('datetime')\n",
    "   \n",
    "    \n",
    "    if vartype== 'category': \n",
    "    # categoricas  / object  \n",
    "        for i in range(0,len(cat.columns)):\n",
    "            print(\"Variable:\", cat.columns[i])\n",
    "            print(\"Número de registros únicos/categorías:\",len(cat.iloc[:,i].unique())) \n",
    "            print(\"Porcentaje de valores nulos:\", sum(pd.isnull(cat.iloc[:,1]))/len(cat.iloc[:,1]))\n",
    "            print(\"Moda: \", cat.iloc[:,i].mode())\n",
    "            print(\"Distribución:\")\n",
    "            print(cat.iloc[:,i].value_counts()/ len(cat.iloc[:,i]),\"\\n\")\n",
    "            \n",
    "    if vartype== 'numeric':\n",
    "    # Numericas    \n",
    "        for i in range(0,len(num.columns)):\n",
    "            print(\"Variable:\", num.columns[i])\n",
    "            print(num.iloc[:,i].describe(),)\n",
    "            print(\"Número de registros únicos:\", len(num.iloc[:,i].unique()))\n",
    "            print(\"Porcentaje de valores nulos:\", sum(pd.isna(num.iloc[:,i]))/len(num.iloc[:,i]),\"\\n\")\n",
    "            \n",
    "    if vartype== 'object': \n",
    "    # object  \n",
    "        for i in range(0,len(obj.columns)):\n",
    "            print(\"Variable:\", cat.columns[i])\n",
    "            print(\"Número de registros únicos/categorías:\",len(obj.iloc[:,i].unique())) \n",
    "            print(\"Porcentaje de valores nulos:\", sum(pd.isna(obj.iloc[:,1]))/len(obj.iloc[:,1]),\"\\n\")\n",
    "            \n",
    "\n",
    "   \n",
    "    if vartype== 'datetime':\n",
    "        for i in range(0,len(dt.columns)):\n",
    "            print(\"Variable:\", dt.columns[i])\n",
    "            print(\"Resumen:\",dt.iloc[:,i].describe(datetime_is_numeric=True),\"\\n\")\n"
   ]
  },
  {
   "cell_type": "markdown",
   "id": "superb-founder",
   "metadata": {},
   "source": [
    "¿Cuántas variables tenemos inicialmente?"
   ]
  },
  {
   "cell_type": "code",
   "execution_count": 4,
   "id": "molecular-commonwealth",
   "metadata": {},
   "outputs": [
    {
     "data": {
      "text/plain": [
       "17"
      ]
     },
     "execution_count": 4,
     "metadata": {},
     "output_type": "execute_result"
    }
   ],
   "source": [
    "len(df.columns)"
   ]
  },
  {
   "cell_type": "markdown",
   "id": "distributed-involvement",
   "metadata": {},
   "source": [
    "¿Cuántas observaciones tenemos inicialmente? (19-enero-2021)"
   ]
  },
  {
   "cell_type": "code",
   "execution_count": 5,
   "id": "ongoing-platform",
   "metadata": {},
   "outputs": [
    {
     "data": {
      "text/plain": [
       "215130"
      ]
     },
     "execution_count": 5,
     "metadata": {},
     "output_type": "execute_result"
    }
   ],
   "source": [
    "len(df)"
   ]
  },
  {
   "cell_type": "markdown",
   "id": "applied-charge",
   "metadata": {},
   "source": [
    "Veamos los primeros 3 y los últimos 3 datos que tenemos en la base de datos:"
   ]
  },
  {
   "cell_type": "code",
   "execution_count": 6,
   "id": "moving-botswana",
   "metadata": {},
   "outputs": [
    {
     "data": {
      "text/html": [
       "<div>\n",
       "<style scoped>\n",
       "    .dataframe tbody tr th:only-of-type {\n",
       "        vertical-align: middle;\n",
       "    }\n",
       "\n",
       "    .dataframe tbody tr th {\n",
       "        vertical-align: top;\n",
       "    }\n",
       "\n",
       "    .dataframe thead th {\n",
       "        text-align: right;\n",
       "    }\n",
       "</style>\n",
       "<table border=\"1\" class=\"dataframe\">\n",
       "  <thead>\n",
       "    <tr style=\"text-align: right;\">\n",
       "      <th></th>\n",
       "      <th>Inspection ID</th>\n",
       "      <th>DBA Name</th>\n",
       "      <th>AKA Name</th>\n",
       "      <th>License #</th>\n",
       "      <th>Facility Type</th>\n",
       "      <th>Risk</th>\n",
       "      <th>Address</th>\n",
       "      <th>City</th>\n",
       "      <th>State</th>\n",
       "      <th>Zip</th>\n",
       "      <th>Inspection Date</th>\n",
       "      <th>Inspection Type</th>\n",
       "      <th>Results</th>\n",
       "      <th>Violations</th>\n",
       "      <th>Latitude</th>\n",
       "      <th>Longitude</th>\n",
       "      <th>Location</th>\n",
       "    </tr>\n",
       "  </thead>\n",
       "  <tbody>\n",
       "    <tr>\n",
       "      <th>0</th>\n",
       "      <td>2472391</td>\n",
       "      <td>PHILZ COFFEE</td>\n",
       "      <td>PHILZ COFFEE</td>\n",
       "      <td>2766979.0</td>\n",
       "      <td>NaN</td>\n",
       "      <td>Risk 2 (Medium)</td>\n",
       "      <td>1555 N WELLS ST</td>\n",
       "      <td>CHICAGO</td>\n",
       "      <td>IL</td>\n",
       "      <td>60610.0</td>\n",
       "      <td>01/07/2021</td>\n",
       "      <td>License</td>\n",
       "      <td>Not Ready</td>\n",
       "      <td>NaN</td>\n",
       "      <td>41.910736</td>\n",
       "      <td>-87.634551</td>\n",
       "      <td>(-87.63455069145124, 41.910736031820235)</td>\n",
       "    </tr>\n",
       "    <tr>\n",
       "      <th>1</th>\n",
       "      <td>2453551</td>\n",
       "      <td>BIAN</td>\n",
       "      <td>BIAN</td>\n",
       "      <td>2744753.0</td>\n",
       "      <td>Restaurant</td>\n",
       "      <td>Risk 1 (High)</td>\n",
       "      <td>600 W CHICAGO AVE</td>\n",
       "      <td>CHICAGO</td>\n",
       "      <td>IL</td>\n",
       "      <td>60654.0</td>\n",
       "      <td>10/20/2020</td>\n",
       "      <td>License</td>\n",
       "      <td>Pass</td>\n",
       "      <td>NaN</td>\n",
       "      <td>41.896585</td>\n",
       "      <td>-87.642996</td>\n",
       "      <td>(-87.64299618172501, 41.896585191199556)</td>\n",
       "    </tr>\n",
       "    <tr>\n",
       "      <th>2</th>\n",
       "      <td>2386633</td>\n",
       "      <td>JIN JU</td>\n",
       "      <td>JIN JU</td>\n",
       "      <td>27137.0</td>\n",
       "      <td>Restaurant</td>\n",
       "      <td>Risk 1 (High)</td>\n",
       "      <td>5203 N CLARK ST</td>\n",
       "      <td>CHICAGO</td>\n",
       "      <td>IL</td>\n",
       "      <td>60640.0</td>\n",
       "      <td>08/28/2020</td>\n",
       "      <td>Canvass</td>\n",
       "      <td>No Entry</td>\n",
       "      <td>NaN</td>\n",
       "      <td>41.976301</td>\n",
       "      <td>-87.668276</td>\n",
       "      <td>(-87.66827593789948, 41.97630115368914)</td>\n",
       "    </tr>\n",
       "  </tbody>\n",
       "</table>\n",
       "</div>"
      ],
      "text/plain": [
       "   Inspection ID      DBA Name      AKA Name  License # Facility Type  \\\n",
       "0        2472391  PHILZ COFFEE  PHILZ COFFEE  2766979.0           NaN   \n",
       "1        2453551          BIAN          BIAN  2744753.0    Restaurant   \n",
       "2        2386633        JIN JU        JIN JU    27137.0    Restaurant   \n",
       "\n",
       "              Risk             Address     City State      Zip  \\\n",
       "0  Risk 2 (Medium)    1555 N WELLS ST   CHICAGO    IL  60610.0   \n",
       "1    Risk 1 (High)  600 W CHICAGO AVE   CHICAGO    IL  60654.0   \n",
       "2    Risk 1 (High)    5203 N CLARK ST   CHICAGO    IL  60640.0   \n",
       "\n",
       "  Inspection Date Inspection Type    Results Violations   Latitude  Longitude  \\\n",
       "0      01/07/2021         License  Not Ready        NaN  41.910736 -87.634551   \n",
       "1      10/20/2020         License       Pass        NaN  41.896585 -87.642996   \n",
       "2      08/28/2020         Canvass   No Entry        NaN  41.976301 -87.668276   \n",
       "\n",
       "                                   Location  \n",
       "0  (-87.63455069145124, 41.910736031820235)  \n",
       "1  (-87.64299618172501, 41.896585191199556)  \n",
       "2   (-87.66827593789948, 41.97630115368914)  "
      ]
     },
     "execution_count": 6,
     "metadata": {},
     "output_type": "execute_result"
    }
   ],
   "source": [
    "df.head(3)"
   ]
  },
  {
   "cell_type": "code",
   "execution_count": 7,
   "id": "sacred-viewer",
   "metadata": {},
   "outputs": [
    {
     "data": {
      "text/html": [
       "<div>\n",
       "<style scoped>\n",
       "    .dataframe tbody tr th:only-of-type {\n",
       "        vertical-align: middle;\n",
       "    }\n",
       "\n",
       "    .dataframe tbody tr th {\n",
       "        vertical-align: top;\n",
       "    }\n",
       "\n",
       "    .dataframe thead th {\n",
       "        text-align: right;\n",
       "    }\n",
       "</style>\n",
       "<table border=\"1\" class=\"dataframe\">\n",
       "  <thead>\n",
       "    <tr style=\"text-align: right;\">\n",
       "      <th></th>\n",
       "      <th>Inspection ID</th>\n",
       "      <th>DBA Name</th>\n",
       "      <th>AKA Name</th>\n",
       "      <th>License #</th>\n",
       "      <th>Facility Type</th>\n",
       "      <th>Risk</th>\n",
       "      <th>Address</th>\n",
       "      <th>City</th>\n",
       "      <th>State</th>\n",
       "      <th>Zip</th>\n",
       "      <th>Inspection Date</th>\n",
       "      <th>Inspection Type</th>\n",
       "      <th>Results</th>\n",
       "      <th>Violations</th>\n",
       "      <th>Latitude</th>\n",
       "      <th>Longitude</th>\n",
       "      <th>Location</th>\n",
       "    </tr>\n",
       "  </thead>\n",
       "  <tbody>\n",
       "    <tr>\n",
       "      <th>215127</th>\n",
       "      <td>164305</td>\n",
       "      <td>PANDA EXPRESS #1422</td>\n",
       "      <td>PANDA EXPRESS #1422</td>\n",
       "      <td>1938611.0</td>\n",
       "      <td>Restaurant</td>\n",
       "      <td>Risk 1 (High)</td>\n",
       "      <td>1654 W 119th ST</td>\n",
       "      <td>CHICAGO</td>\n",
       "      <td>IL</td>\n",
       "      <td>60643.0</td>\n",
       "      <td>02/01/2010</td>\n",
       "      <td>Canvass</td>\n",
       "      <td>Pass</td>\n",
       "      <td>33. FOOD AND NON-FOOD CONTACT EQUIPMENT UTENSI...</td>\n",
       "      <td>41.677617</td>\n",
       "      <td>-87.663113</td>\n",
       "      <td>(-87.66311314586792, 41.67761705588747)</td>\n",
       "    </tr>\n",
       "    <tr>\n",
       "      <th>215128</th>\n",
       "      <td>158331</td>\n",
       "      <td>DELA LUZ SUPERMERCADO</td>\n",
       "      <td>DELA LUZ SUPERMERCADO</td>\n",
       "      <td>20921.0</td>\n",
       "      <td>Grocery Store</td>\n",
       "      <td>Risk 1 (High)</td>\n",
       "      <td>4400 S HONORE ST</td>\n",
       "      <td>CHICAGO</td>\n",
       "      <td>IL</td>\n",
       "      <td>60609.0</td>\n",
       "      <td>02/19/2010</td>\n",
       "      <td>Canvass</td>\n",
       "      <td>Fail</td>\n",
       "      <td>3. POTENTIALLY HAZARDOUS FOOD MEETS TEMPERATUR...</td>\n",
       "      <td>41.813911</td>\n",
       "      <td>-87.671327</td>\n",
       "      <td>(-87.67132698995246, 41.81391135944083)</td>\n",
       "    </tr>\n",
       "    <tr>\n",
       "      <th>215129</th>\n",
       "      <td>67853</td>\n",
       "      <td>METROPOLITAN FAMILY SERVICES MIDWAY CHILDCARE ...</td>\n",
       "      <td>METROPOLITAN FAMILY SERVICES MIDWAY CHILDCARE ...</td>\n",
       "      <td>1443260.0</td>\n",
       "      <td>Daycare Above and Under 2 Years</td>\n",
       "      <td>Risk 1 (High)</td>\n",
       "      <td>3215 W 63RD ST</td>\n",
       "      <td>CHICAGO</td>\n",
       "      <td>IL</td>\n",
       "      <td>60629.0</td>\n",
       "      <td>01/12/2010</td>\n",
       "      <td>Canvass</td>\n",
       "      <td>Pass</td>\n",
       "      <td>NaN</td>\n",
       "      <td>41.778853</td>\n",
       "      <td>-87.703781</td>\n",
       "      <td>(-87.70378111914683, 41.7788532281178)</td>\n",
       "    </tr>\n",
       "  </tbody>\n",
       "</table>\n",
       "</div>"
      ],
      "text/plain": [
       "        Inspection ID                                           DBA Name  \\\n",
       "215127         164305                                PANDA EXPRESS #1422   \n",
       "215128         158331                              DELA LUZ SUPERMERCADO   \n",
       "215129          67853  METROPOLITAN FAMILY SERVICES MIDWAY CHILDCARE ...   \n",
       "\n",
       "                                                 AKA Name  License #  \\\n",
       "215127                                PANDA EXPRESS #1422  1938611.0   \n",
       "215128                              DELA LUZ SUPERMERCADO    20921.0   \n",
       "215129  METROPOLITAN FAMILY SERVICES MIDWAY CHILDCARE ...  1443260.0   \n",
       "\n",
       "                          Facility Type           Risk            Address  \\\n",
       "215127                       Restaurant  Risk 1 (High)   1654 W 119th ST    \n",
       "215128                    Grocery Store  Risk 1 (High)  4400 S HONORE ST    \n",
       "215129  Daycare Above and Under 2 Years  Risk 1 (High)    3215 W 63RD ST    \n",
       "\n",
       "           City State      Zip Inspection Date Inspection Type Results  \\\n",
       "215127  CHICAGO    IL  60643.0      02/01/2010         Canvass    Pass   \n",
       "215128  CHICAGO    IL  60609.0      02/19/2010         Canvass    Fail   \n",
       "215129  CHICAGO    IL  60629.0      01/12/2010         Canvass    Pass   \n",
       "\n",
       "                                               Violations   Latitude  \\\n",
       "215127  33. FOOD AND NON-FOOD CONTACT EQUIPMENT UTENSI...  41.677617   \n",
       "215128  3. POTENTIALLY HAZARDOUS FOOD MEETS TEMPERATUR...  41.813911   \n",
       "215129                                                NaN  41.778853   \n",
       "\n",
       "        Longitude                                 Location  \n",
       "215127 -87.663113  (-87.66311314586792, 41.67761705588747)  \n",
       "215128 -87.671327  (-87.67132698995246, 41.81391135944083)  \n",
       "215129 -87.703781   (-87.70378111914683, 41.7788532281178)  "
      ]
     },
     "execution_count": 7,
     "metadata": {},
     "output_type": "execute_result"
    }
   ],
   "source": [
    "df.tail(3)"
   ]
  },
  {
   "cell_type": "markdown",
   "id": "ordinary-situation",
   "metadata": {},
   "source": [
    "---"
   ]
  },
  {
   "cell_type": "markdown",
   "id": "pregnant-steering",
   "metadata": {},
   "source": [
    "## Valores falttantes"
   ]
  },
  {
   "cell_type": "code",
   "execution_count": 8,
   "id": "disturbed-european",
   "metadata": {},
   "outputs": [
    {
     "data": {
      "text/html": [
       "<div>\n",
       "<style scoped>\n",
       "    .dataframe tbody tr th:only-of-type {\n",
       "        vertical-align: middle;\n",
       "    }\n",
       "\n",
       "    .dataframe tbody tr th {\n",
       "        vertical-align: top;\n",
       "    }\n",
       "\n",
       "    .dataframe thead th {\n",
       "        text-align: right;\n",
       "    }\n",
       "</style>\n",
       "<table border=\"1\" class=\"dataframe\">\n",
       "  <thead>\n",
       "    <tr style=\"text-align: right;\">\n",
       "      <th></th>\n",
       "      <th>Proporción de valores faltantes</th>\n",
       "    </tr>\n",
       "  </thead>\n",
       "  <tbody>\n",
       "    <tr>\n",
       "      <th>Inspection ID</th>\n",
       "      <td>0.00</td>\n",
       "    </tr>\n",
       "    <tr>\n",
       "      <th>DBA Name</th>\n",
       "      <td>0.00</td>\n",
       "    </tr>\n",
       "    <tr>\n",
       "      <th>AKA Name</th>\n",
       "      <td>1.16</td>\n",
       "    </tr>\n",
       "    <tr>\n",
       "      <th>License #</th>\n",
       "      <td>0.01</td>\n",
       "    </tr>\n",
       "    <tr>\n",
       "      <th>Facility Type</th>\n",
       "      <td>2.27</td>\n",
       "    </tr>\n",
       "    <tr>\n",
       "      <th>Risk</th>\n",
       "      <td>0.03</td>\n",
       "    </tr>\n",
       "    <tr>\n",
       "      <th>Address</th>\n",
       "      <td>0.00</td>\n",
       "    </tr>\n",
       "    <tr>\n",
       "      <th>City</th>\n",
       "      <td>0.07</td>\n",
       "    </tr>\n",
       "    <tr>\n",
       "      <th>State</th>\n",
       "      <td>0.02</td>\n",
       "    </tr>\n",
       "    <tr>\n",
       "      <th>Zip</th>\n",
       "      <td>0.02</td>\n",
       "    </tr>\n",
       "    <tr>\n",
       "      <th>Inspection Date</th>\n",
       "      <td>0.00</td>\n",
       "    </tr>\n",
       "    <tr>\n",
       "      <th>Inspection Type</th>\n",
       "      <td>0.00</td>\n",
       "    </tr>\n",
       "    <tr>\n",
       "      <th>Results</th>\n",
       "      <td>0.00</td>\n",
       "    </tr>\n",
       "    <tr>\n",
       "      <th>Violations</th>\n",
       "      <td>26.70</td>\n",
       "    </tr>\n",
       "    <tr>\n",
       "      <th>Latitude</th>\n",
       "      <td>0.33</td>\n",
       "    </tr>\n",
       "    <tr>\n",
       "      <th>Longitude</th>\n",
       "      <td>0.33</td>\n",
       "    </tr>\n",
       "    <tr>\n",
       "      <th>Location</th>\n",
       "      <td>0.33</td>\n",
       "    </tr>\n",
       "  </tbody>\n",
       "</table>\n",
       "</div>"
      ],
      "text/plain": [
       "                 Proporción de valores faltantes\n",
       "Inspection ID                               0.00\n",
       "DBA Name                                    0.00\n",
       "AKA Name                                    1.16\n",
       "License #                                   0.01\n",
       "Facility Type                               2.27\n",
       "Risk                                        0.03\n",
       "Address                                     0.00\n",
       "City                                        0.07\n",
       "State                                       0.02\n",
       "Zip                                         0.02\n",
       "Inspection Date                             0.00\n",
       "Inspection Type                             0.00\n",
       "Results                                     0.00\n",
       "Violations                                 26.70\n",
       "Latitude                                    0.33\n",
       "Longitude                                   0.33\n",
       "Location                                    0.33"
      ]
     },
     "execution_count": 8,
     "metadata": {},
     "output_type": "execute_result"
    }
   ],
   "source": [
    "missings_prop = df.apply(lambda x: round(x.isnull().sum()/df.shape[0]*100, 2))\n",
    "missings_numeric_df = pd.DataFrame({'Proporción de valores faltantes': missings_prop})\n",
    "missings_numeric_df"
   ]
  },
  {
   "cell_type": "markdown",
   "id": "reliable-danger",
   "metadata": {},
   "source": [
    "---"
   ]
  },
  {
   "cell_type": "markdown",
   "id": "incoming-ceremony",
   "metadata": {},
   "source": [
    "## Transformación de variables"
   ]
  },
  {
   "cell_type": "code",
   "execution_count": 9,
   "id": "olive-going",
   "metadata": {},
   "outputs": [
    {
     "name": "stdout",
     "output_type": "stream",
     "text": [
      "<class 'pandas.core.frame.DataFrame'>\n",
      "RangeIndex: 215130 entries, 0 to 215129\n",
      "Data columns (total 17 columns):\n",
      " #   Column           Non-Null Count   Dtype  \n",
      "---  ------           --------------   -----  \n",
      " 0   Inspection ID    215130 non-null  int64  \n",
      " 1   DBA Name         215130 non-null  object \n",
      " 2   AKA Name         212643 non-null  object \n",
      " 3   License #        215113 non-null  float64\n",
      " 4   Facility Type    210238 non-null  object \n",
      " 5   Risk             215061 non-null  object \n",
      " 6   Address          215130 non-null  object \n",
      " 7   City             214972 non-null  object \n",
      " 8   State            215080 non-null  object \n",
      " 9   Zip              215078 non-null  float64\n",
      " 10  Inspection Date  215130 non-null  object \n",
      " 11  Inspection Type  215129 non-null  object \n",
      " 12  Results          215130 non-null  object \n",
      " 13  Violations       157683 non-null  object \n",
      " 14  Latitude         214420 non-null  float64\n",
      " 15  Longitude        214420 non-null  float64\n",
      " 16  Location         214420 non-null  object \n",
      "dtypes: float64(4), int64(1), object(12)\n",
      "memory usage: 27.9+ MB\n"
     ]
    }
   ],
   "source": [
    "df.info()"
   ]
  },
  {
   "cell_type": "code",
   "execution_count": 10,
   "id": "exciting-postcard",
   "metadata": {},
   "outputs": [],
   "source": [
    "df['DBA Name']= df['DBA Name'].astype('category')\n",
    "df['AKA Name']= df['AKA Name'].astype('category')\n",
    "df['Facility Type']= df['Facility Type'].astype('category')\n",
    "df['Risk']= df['Risk'].astype('category')\n",
    "df['Address']= df['Address'].astype('category')\n",
    "df['City']= df['City'].astype('category')\n",
    "df['State']= df['State'].astype('category')\n",
    "df['Inspection Date'] = pd.to_datetime(df['Inspection Date'], infer_datetime_format=True)\n",
    "df['Inspection Type']= df['Inspection Type'].astype('category')\n",
    "df['Results']= df['Results'].astype('category')\n",
    "df['Violations']= df['Violations'].astype('category')"
   ]
  },
  {
   "cell_type": "code",
   "execution_count": 11,
   "id": "conceptual-opening",
   "metadata": {
    "scrolled": false
   },
   "outputs": [
    {
     "name": "stdout",
     "output_type": "stream",
     "text": [
      "Variable: DBA Name\n",
      "Número de registros únicos/categorías: 28753\n",
      "Porcentaje de valores nulos: 0.01156045181982987\n",
      "Moda:  0    SUBWAY\n",
      "Name: DBA Name, dtype: category\n",
      "Categories (28753, object): ['#1 CHINA EXPRESS, LTD.', '#1 CHOP SUEY', '#1 CHOP SUEY RESTAURANT', '#1 CHOP SUEY RESTAURANT, INC', ..., 'subway restaurant 1', 'tien giang restaurant', 'unknown', 'vitino pizzeria']\n",
      "Distribución:\n",
      "SUBWAY                          0.013517\n",
      "DUNKIN DONUTS                   0.007335\n",
      "MCDONALD'S                      0.002854\n",
      "7-ELEVEN                        0.002180\n",
      "MCDONALDS                       0.001599\n",
      "                                  ...   \n",
      "IRVING FOOD MART                0.000005\n",
      "IRVING FOOD,INC                 0.000005\n",
      "STARR'S FAST FOOD RESTAURANT    0.000005\n",
      "IRVING LONG LIQUORS & FOODS     0.000005\n",
      "vitino pizzeria                 0.000005\n",
      "Name: DBA Name, Length: 28753, dtype: float64 \n",
      "\n",
      "Variable: AKA Name\n",
      "Número de registros únicos/categorías: 27361\n",
      "Porcentaje de valores nulos: 0.01156045181982987\n",
      "Moda:  0    SUBWAY\n",
      "Name: AKA Name, dtype: category\n",
      "Categories (27360, object): ['#1 CHINA EXPRESS , LTD', '#1 CHOP SUEY', '#1 CHOP SUEY RESTAURANT', '#1 DELI', ..., 'no signage', 'the FRENCH LUNCHBOX', 'vitino pizzeria', 'ï¿½ BAR AND GRILL']\n",
      "Distribución:\n",
      "SUBWAY                               0.016585\n",
      "DUNKIN DONUTS                        0.007372\n",
      "7-ELEVEN                             0.004100\n",
      "MCDONALD'S                           0.003877\n",
      "BURGER KING                          0.002082\n",
      "                                       ...   \n",
      "IRVING LONG LIQUORS & FOODS          0.000005\n",
      "STARBUCKS COFFEE #2286               0.000005\n",
      "IRVING MINI MART                     0.000005\n",
      "IRVING PRODUCE MARKET CORPORATION    0.000005\n",
      "LA ESQUINITA MEXICAN                 0.000005\n",
      "Name: AKA Name, Length: 27360, dtype: float64 \n",
      "\n",
      "Variable: Facility Type\n",
      "Número de registros únicos/categorías: 501\n",
      "Porcentaje de valores nulos: 0.01156045181982987\n",
      "Moda:  0    Restaurant\n",
      "Name: Facility Type, dtype: category\n",
      "Categories (500, object): ['(convenience store)', '(gas station)', '1005 NURSING HOME', '1023', ..., 'warehouse', 'watermelon house', 'weight loss program', 'youth housing']\n",
      "Distribución:\n",
      "Restaurant                      0.665872\n",
      "Grocery Store                   0.130586\n",
      "School                          0.061386\n",
      "Children's Services Facility    0.017250\n",
      "Bakery                          0.014656\n",
      "                                  ...   \n",
      "GROCERY & RESTAURANT            0.000005\n",
      "GROCERY/LIQUOR                  0.000005\n",
      "GROCERY/LIQUOR STORE            0.000005\n",
      "ROOFTOP PATIO                   0.000005\n",
      "(convenience store)             0.000005\n",
      "Name: Facility Type, Length: 500, dtype: float64 \n",
      "\n",
      "Variable: Risk\n",
      "Número de registros únicos/categorías: 5\n",
      "Porcentaje de valores nulos: 0.01156045181982987\n",
      "Moda:  0    Risk 1 (High)\n",
      "Name: Risk, dtype: category\n",
      "Categories (4, object): ['All', 'Risk 1 (High)', 'Risk 2 (Medium)', 'Risk 3 (Low)']\n",
      "Distribución:\n",
      "Risk 1 (High)      0.715237\n",
      "Risk 2 (Medium)    0.195129\n",
      "Risk 3 (Low)       0.089179\n",
      "All                0.000135\n",
      "Name: Risk, dtype: float64 \n",
      "\n",
      "Variable: Address\n",
      "Número de registros únicos/categorías: 18525\n",
      "Porcentaje de valores nulos: 0.01156045181982987\n",
      "Moda:  0    11601 W TOUHY AVE \n",
      "Name: Address, dtype: category\n",
      "Categories (18525, object): [' ', '1 E 113TH ST ', '1 E 83RD ST ', '1 E DELAWARE PL ', ..., '9940 S VINCENNES AVE ', '9955 S WESTERN AVE ', '9956 S WESTERN AVE ', 'N2660 HAYTON RD ']\n",
      "Distribución:\n",
      "11601 W TOUHY AVE            0.012430\n",
      "5700 S CICERO AVE            0.002756\n",
      "500 W MADISON ST             0.002161\n",
      "2300 S THROOP ST             0.001906\n",
      "324 N LEAVITT ST             0.001818\n",
      "                               ...   \n",
      "723 W BELMONT AVE            0.000005\n",
      "3434 W 26TH ST               0.000005\n",
      "3433 N SHEFFIELD AVE         0.000005\n",
      "3432-3442 W MONTROSE AVE     0.000005\n",
      "N2660 HAYTON RD              0.000005\n",
      "Name: Address, Length: 18525, dtype: float64 \n",
      "\n",
      "Variable: City\n",
      "Número de registros únicos/categorías: 71\n",
      "Porcentaje de valores nulos: 0.01156045181982987\n",
      "Moda:  0    CHICAGO\n",
      "Name: City, dtype: category\n",
      "Categories (70, object): ['312CHICAGO', 'ALGONQUIN', 'ALSIP', 'BANNOCKBURNDEERFIELD', ..., 'WORTH', 'alsip', 'chicago', 'chicagoBEDFORD PARK']\n",
      "Distribución:\n",
      "CHICAGO                0.995803\n",
      "Chicago                0.001613\n",
      "chicago                0.000516\n",
      "CCHICAGO               0.000223\n",
      "SCHAUMBURG             0.000126\n",
      "                         ...   \n",
      "EVERGREEN PARK         0.000005\n",
      "Norridge               0.000005\n",
      "OAK LAWN               0.000005\n",
      "DES PLAINES            0.000005\n",
      "chicagoBEDFORD PARK    0.000005\n",
      "Name: City, Length: 70, dtype: float64 \n",
      "\n",
      "Variable: State\n",
      "Número de registros únicos/categorías: 5\n",
      "Porcentaje de valores nulos: 0.01156045181982987\n",
      "Moda:  0    IL\n",
      "Name: State, dtype: category\n",
      "Categories (4, object): ['IL', 'IN', 'NY', 'WI']\n",
      "Distribución:\n",
      "IL    0.999754\n",
      "IN    0.000005\n",
      "NY    0.000005\n",
      "WI    0.000005\n",
      "Name: State, dtype: float64 \n",
      "\n",
      "Variable: Inspection Type\n",
      "Número de registros únicos/categorías: 111\n",
      "Porcentaje de valores nulos: 0.01156045181982987\n",
      "Moda:  0    Canvass\n",
      "Name: Inspection Type, dtype: category\n",
      "Categories (110, object): ['1315 license reinspection', 'ADDENDUM', 'Business Not Located', 'CANVAS', ..., 'out ofbusiness', 'sfp/complaint', 'task force', 'task force(1470) liquor tavern']\n",
      "Distribución:\n",
      "Canvass                                   0.531074\n",
      "License                                   0.131558\n",
      "Canvass Re-Inspection                     0.106150\n",
      "Complaint                                 0.092558\n",
      "License Re-Inspection                     0.044773\n",
      "                                            ...   \n",
      "LICENSE RENEWAL INSPECTION FOR DAYCARE    0.000005\n",
      "LICENSE DAYCARE 1586                      0.000005\n",
      "LICENSE CANCELED BY OWNER                 0.000005\n",
      "LICENSE                                   0.000005\n",
      "task force(1470) liquor tavern            0.000005\n",
      "Name: Inspection Type, Length: 110, dtype: float64 \n",
      "\n",
      "Variable: Results\n",
      "Número de registros únicos/categorías: 7\n",
      "Porcentaje de valores nulos: 0.01156045181982987\n",
      "Moda:  0    Pass\n",
      "Name: Results, dtype: category\n",
      "Categories (7, object): ['Business Not Located', 'Fail', 'No Entry', 'Not Ready', 'Out of Business', 'Pass', 'Pass w/ Conditions']\n",
      "Distribución:\n",
      "Pass                    0.523595\n",
      "Fail                    0.193032\n",
      "Pass w/ Conditions      0.151304\n",
      "Out of Business         0.086966\n",
      "No Entry                0.034124\n",
      "Not Ready               0.010645\n",
      "Business Not Located    0.000335\n",
      "Name: Results, dtype: float64 \n",
      "\n",
      "Variable: Violations\n",
      "Número de registros únicos/categorías: 156735\n",
      "Porcentaje de valores nulos: 0.01156045181982987\n",
      "Moda:  0    32. FOOD AND NON-FOOD CONTACT SURFACES PROPERL...\n",
      "Name: Violations, dtype: category\n",
      "Categories (156734, object): ['1. PERSON IN CHARGE PRESENT, DEMONSTRATES KNO..., '1. PERSON IN CHARGE PRESENT, DEMONSTRATES KNO..., '1. PERSON IN CHARGE PRESENT, DEMONSTRATES KNO..., '1. PERSON IN CHARGE PRESENT, DEMONSTRATES KNO..., ..., '9. WATER SOURCE: SAFE, HOT & COLD UNDER CITY ..., '9. WATER SOURCE: SAFE, HOT & COLD UNDER CITY ..., '9. WATER SOURCE: SAFE, HOT & COLD UNDER CITY ..., '9. WATER SOURCE: SAFE, HOT & COLD UNDER CITY ...]\n",
      "Distribución:\n",
      "32. FOOD AND NON-FOOD CONTACT SURFACES PROPERLY DESIGNED, CONSTRUCTED AND MAINTAINED - Comments: VIOLATION STILL PENDING                                                                                                                                                                                                                                                                                                                                                                                                                                                                                                                                                                                                                                                                                                                                                                                                                                                                                                                                                                                                                                                                                                                                                                                                                                                                                                                                                                                               0.000051\n",
      "45. FOOD HANDLER REQUIREMENTS MET - Comments: ALL FOOD HANDLING EMPLOYEES MUST SHOW PROOF OF FOOD HANDLER TRAINING.  MUST PROVIDE.                                                                                                                                                                                                                                                                                                                                                                                                                                                                                                                                                                                                                                                                                                                                                                                                                                                                                                                                                                                                                                                                                                                                                                                                                                                                                                                                                                                     0.000046\n",
      "30. FOOD IN ORIGINAL CONTAINER, PROPERLY LABELED: CUSTOMER ADVISORY POSTED AS NEEDED - Comments: OBSERVED NO DBA NAME ON THE LATERAL SIDE OF THE CART, INSTRUCTED TO PROVIDE BUSINESS NAME LEGIBLY PAINTED IN LETTERS AT LEAST TWO INCHES IN HEIGHT IN A CONSPICUOUS PLACE ON EACH LATERAL SIDE OF CART.                                                                                                                                                                                                                                                                                                                                                                                                                                                                                                                                                                                                                                                                                                                                                                                                                                                                                                                                                                                                                                                                                                                                                                                                               0.000046\n",
      "3. MANAGEMENT, FOOD EMPLOYEE AND CONDITIONAL EMPLOYEE; KNOWLEDGE, RESPONSIBILITIES AND REPORTING - Comments: 2-102.14(N)  FOUND NO EMPLOYEE HEALTH POLICY AT PREMISES. PRIORITY FOUNDATION. NO CITATION ISSUED. 7-38-010. MUST PROVIDE. | 5. PROCEDURES FOR RESPONDING TO VOMITING AND DIARRHEAL EVENTS - Comments: 2-501.11 FOUND NO VOMIT AND DIARRHEA CLEAN UP POLICY.  PRIORITY FOUNDATION. NO CITATION ISSUED.7-38-005. MUST PROVIDE.                                                                                                                                                                                                                                                                                                                                                                                                                                                                                                                                                                                                                                                                                                                                                                                                                                                                                                                                                                                                                                                                             0.000033\n",
      "32. FOOD AND NON-FOOD CONTACT SURFACES PROPERLY DESIGNED, CONSTRUCTED AND MAINTAINED - Comments: FOR NEXT REGULAR INSPECTION | 33. FOOD AND NON-FOOD CONTACT EQUIPMENT UTENSILS CLEAN, FREE OF ABRASIVE DETERGENTS - Comments: FOR NEXT REGULAR INSPECTION | 34. FLOORS: CONSTRUCTED PER CODE, CLEANED, GOOD REPAIR, COVING INSTALLED, DUST-LESS CLEANING METHODS USED - Comments: FOR NEXT REGULAR INSPECTION | 35. WALLS, CEILINGS, ATTACHED EQUIPMENT CONSTRUCTED PER CODE: GOOD REPAIR, SURFACES CLEAN AND DUST-LESS CLEANING METHODS - Comments: FOR NEXT REGULAR INSPECTION                                                                                                                                                                                                                                                                                                                                                                                                                                                                                                                                                                                                                                                                                                                                                                                                                                                                                                                                      0.000033\n",
      "                                                                                                                                                                                                                                                                                                                                                                                                                                                                                                                                                                                                                                                                                                                                                                                                                                                                                                                                                                                                                                                                                                                                                                                                                                                                                                                                                                                                                                                                                                                         ...   \n",
      "3. MANAGEMENT, FOOD EMPLOYEE AND CONDITIONAL EMPLOYEE; KNOWLEDGE, RESPONSIBILITIES AND REPORTING - Comments: OBSERVED NO EMPLOYEE HEALTH POLICY FOR EMPLOYEES. INSTRUCTED (PIC) TO PROVIDE. PRIORITY FOUNDATION. | 5. PROCEDURES FOR RESPONDING TO VOMITING AND DIARRHEAL EVENTS - Comments: OBSERVED NO EMPLOYEE CLEAN UP PROCEDURE FOR VOMITING AND DIARRHEAL EVENTS. INSTRUCTED TO PROVIDE WITH ALL NECESSARY ITEMS IN POLICY INCLUDING A DISPOSABLE MOP, DISPOSABLE GLOVES AND FACE MASK.PRIORITY FOUNDATION | 10. ADEQUATE HANDWASHING SINKS PROPERLY SUPPLIED AND ACCESSIBLE - Comments: NO HANDWASHING SIGNS POSTED AT HANDWASHING SINKS. MUST INSTALL. | 23. PROPER DATE MARKING AND DISPOSITION - Comments: OBSERVED NO DATE MARKING ON COLE SLAW INSIDE WALK IN COOLER. INSTRUCTED THAT ANY READY TO EAT FOODS HELD MORE THAN 24 HOURS MUST BE IDENTIFIED ,DATE MARKED WITH PREPARED AND DISCARD DATE. PRIORITY FOUNDATION | 37. FOOD PROPERLY LABELED; ORIGINAL CONTAINER - Comments: OBSERVED  FOOD STORAGE SPICES AND HOT SAUCE, BBQ SAUCE NOT IN ORIGINAL CONTAINERS WITH COMMON NAME. MUST INSTALL. | 51. PLUMBING INSTALLED; PROPER BACKFLOW DEVICES - Comments: UNABLE TO LOCATE BACKFLOW PREVENTIVE DEVICE ON ICE MACHINE. INSTRUCTED THAT BACKFLOW PREVENTER DEVICE MUST BE LOCATED TO BE SERVICED AND MAINTAINED. | 53. TOILET FACILITIES: PROPERLY CONSTRUCTED, SUPPLIED, & CLEANED - Comments: INSTRUCTED THAT WASHROOMS USED BY FEMALES MUST HAVE A COVERED RECEPTACLE FOR SANITARY NAPKINS.    0.000005\n",
      "3. MANAGEMENT, FOOD EMPLOYEE AND CONDITIONAL EMPLOYEE; KNOWLEDGE, RESPONSIBILITIES AND REPORTING - Comments: OBSERVED NO EMPLOYEE HEALTH POLICY FOR EMPLOYEES. INSTRUCTED MANAGER TO PROVIDE. PRIORITY FOUBDATION. NO CITATION | 5. PROCEDURES FOR RESPONDING TO VOMITING AND DIARRHEAL EVENTS - Comments: NO EMPLOYEE CLEAN UP PROCEDURE FOR VOMITING AND DIARRHEAL EVENTS. INSTRUCTED TO PROVIDE. PRIORITY FOUNDATION. NO CITATION | 53. TOILET FACILITIES: PROPERLY CONSTRUCTED, SUPPLIED, & CLEANED - Comments: Instructed any washroom used by females must have a covered receptacle for sanitary napkins. must provide. | 55. PHYSICAL FACILITIES INSTALLED, MAINTAINED & CLEAN - Comments: FLOOR NEED REGROUTING UNDER ICE MACHINE AND COOKING EQUIPMENT. INSTRUCTED TO REPAIR FLOOR AREAS.                                                                                                                                                                                                                                                                                                                                                                                                                                                                                                                                                                                                                                                                                                                    0.000005\n",
      "3. MANAGEMENT, FOOD EMPLOYEE AND CONDITIONAL EMPLOYEE; KNOWLEDGE, RESPONSIBILITIES AND REPORTING - Comments: OBSERVED NO EMPLOYEE HEALTH POLICY FOR EMPLOYEES. INSTRUCTED MANAGER TO PROVIDE. PRIORITY FOUNDATION . NO CITATION | 52. SEWAGE & WASTE WATER PROPERLY DISPOSED | 53. TOILET FACILITIES: PROPERLY CONSTRUCTED, SUPPLIED, & CLEANED - Comments: OBSERVED NO COVERED RECEPTACLE IN WASHROOM. INSTRUCTED THAT ANY WASHROOM THATS USED BY FEMALES MUST HAVE  A COVERED RECEPTACLE FOR SANITARY NAPKINS. | 55. PHYSICAL FACILITIES INSTALLED, MAINTAINED & CLEAN - Comments: OBSERVED GIRLS WASHROOM HAND SINK FAUCETS HAS LOW WATER PRESSURE,( LOCATED BY PRE-K ROOM) . ALSO  PRE-K WASHROOM FAUCET HANLE IN POOR REPAIR.( CAN ONLY BE USED IF HANDLE IS HELD DOWN). MUST REPAIR | 55. PHYSICAL FACILITIES INSTALLED, MAINTAINED & CLEAN - Comments: OBSERVED STORAGE SHELVES IN DRY STORAGE ROOM PEELING. INSTRUCTED TO REPAIR.                                                                                                                                                                                                                                                                                                                                                                                                                                                                                                                                                                              0.000005\n",
      "3. MANAGEMENT, FOOD EMPLOYEE AND CONDITIONAL EMPLOYEE; KNOWLEDGE, RESPONSIBILITIES AND REPORTING - Comments: OBSERVED NO EMPLOYEE HEALTH POLICY FOR EMPLOYEES. INSTRUCTED MANAGER TO PROVIDE. PRIORITY FOUNDATION. NO CITATION | 22. PROPER COLD HOLDING TEMPERATURES - Comments: OBSERVED IMPROPER COLD TEMPERATURES OF FOODS ON CUSTOMER SELF SERVE BUFFET TABLE. APPROX 2-LBS OF COLE SLAW AT 48.8F,2-LBS CUT MELON( CANTALOPE) 46.8F, 2-LBS RANCH DRESSING. MANAGER REMOVED AND DISCARDED FOODS AT COST APPROX $10.00, COS. INSTRUCTED TO MAINTAIN COLD FOODS AT 41F OR BELOW. PRIORITY VIOLATION 7-38-005 CITATION ISSUED TO BUSINESS LICENSE POSTED | 25. CONSUMER ADVISORY PROVIDED FOR RAW/UNDERCOOKED FOOD - Comments: NO DISCLOSURE OR REMINDER ON MENUS. INSTRUCTED THAT A REMINDER AND DISCLOSURE MUST BE ON ALL MENUS FOR ANY RAW OR UNDERCOOKED FOODS SERVED,( STEAK,ETC). | 56. ADEQUATE VENTILATION & LIGHTING; DESIGNATED AREAS USED - Comments: NO VENTILATION IN ALL 3 WASHROOMS LOCATED ON 2ND FL BANQUET WEST BUILDING. INSTRUCTED TO INSTALL. | 58. ALLERGEN TRAINING AS REQUIRED - Comments: NO ALLERGENS TRAINING FOR MANAGERS WITH CITY OF CHICAGO FOOD SANITATION CERTIFICATE. INSTRUCTED TO PROVIDE.                                                                                                                                                                                                                                                                                        0.000005\n",
      "9. WATER SOURCE: SAFE, HOT & COLD UNDER CITY PRESSURE | 18. NO EVIDENCE OF RODENT OR INSECT OUTER OPENINGS PROTECTED/RODENT PROOFED, A WRITTEN LOG SHALL BE MAINTAINED AVAILABLE TO THE INSPECTORS | 32. FOOD AND NON-FOOD CONTACT SURFACES PROPERLY DESIGNED, CONSTRUCTED AND MAINTAINED | 33. FOOD AND NON-FOOD CONTACT EQUIPMENT UTENSILS CLEAN, FREE OF ABRASIVE DETERGENTS | 34. FLOORS: CONSTRUCTED PER CODE, CLEANED, GOOD REPAIR, COVING INSTALLED, DUST-LESS CLEANING METHODS USED | 35. WALLS, CEILINGS, ATTACHED EQUIPMENT CONSTRUCTED PER CODE: GOOD REPAIR, SURFACES CLEAN AND DUST-LESS CLEANING METHODS | 36. LIGHTING: REQUIRED MINIMUM FOOT-CANDLES OF LIGHT PROVIDED, FIXTURES SHIELDED | 38. VENTILATION: ROOMS AND EQUIPMENT VENTED AS REQUIRED: PLUMBING: INSTALLED AND MAINTAINED | 41. PREMISES MAINTAINED FREE OF LITTER, UNNECESSARY ARTICLES, CLEANING  EQUIPMENT PROPERLY STORED                                                                                                                                                                                                                                                                                                                                                                                                                                                                                                                                                                                                            0.000005\n",
      "Name: Violations, Length: 156734, dtype: float64 \n",
      "\n"
     ]
    }
   ],
   "source": [
    "fast_describe(df, \"category\")"
   ]
  },
  {
   "cell_type": "code",
   "execution_count": 12,
   "id": "downtown-aquarium",
   "metadata": {},
   "outputs": [
    {
     "name": "stdout",
     "output_type": "stream",
     "text": [
      "Variable: Inspection Date\n",
      "Resumen: count                           215130\n",
      "mean     2015-06-07 22:40:13.521126400\n",
      "min                2010-01-04 00:00:00\n",
      "25%                2012-11-20 00:00:00\n",
      "50%                2015-06-24 00:00:00\n",
      "75%                2017-11-16 00:00:00\n",
      "max                2021-01-15 00:00:00\n",
      "Name: Inspection Date, dtype: object \n",
      "\n"
     ]
    }
   ],
   "source": [
    "fast_describe(df, 'datetime')"
   ]
  },
  {
   "cell_type": "code",
   "execution_count": 13,
   "id": "presidential-engagement",
   "metadata": {},
   "outputs": [
    {
     "name": "stdout",
     "output_type": "stream",
     "text": [
      "Variable: Inspection ID\n",
      "count    2.151300e+05\n",
      "mean     1.528870e+06\n",
      "std      6.614742e+05\n",
      "min      4.424700e+04\n",
      "25%      1.188711e+06\n",
      "50%      1.528174e+06\n",
      "75%      2.104620e+06\n",
      "max      2.472776e+06\n",
      "Name: Inspection ID, dtype: float64\n",
      "Número de registros únicos: 215130\n",
      "Porcentaje de valores nulos: 0.0 \n",
      "\n",
      "Variable: License #\n",
      "count    2.151130e+05\n",
      "mean     1.630342e+06\n",
      "std      9.027653e+05\n",
      "min      0.000000e+00\n",
      "25%      1.247748e+06\n",
      "50%      1.992224e+06\n",
      "75%      2.278360e+06\n",
      "max      9.999999e+06\n",
      "Name: License #, dtype: float64\n",
      "Número de registros únicos: 39112\n",
      "Porcentaje de valores nulos: 7.902198670571282e-05 \n",
      "\n",
      "Variable: Zip\n",
      "count    215078.000000\n",
      "mean      60628.759227\n",
      "std         116.778081\n",
      "min       10014.000000\n",
      "25%       60614.000000\n",
      "50%       60625.000000\n",
      "75%       60643.000000\n",
      "max       60827.000000\n",
      "Name: Zip, dtype: float64\n",
      "Número de registros únicos: 113\n",
      "Porcentaje de valores nulos: 0.00024171431227629805 \n",
      "\n",
      "Variable: Latitude\n",
      "count    214420.000000\n",
      "mean         41.880910\n",
      "std           0.081026\n",
      "min          41.644670\n",
      "25%          41.832580\n",
      "50%          41.891893\n",
      "75%          41.939792\n",
      "max          42.021064\n",
      "Name: Latitude, dtype: float64\n",
      "Número de registros únicos: 17249\n",
      "Porcentaje de valores nulos: 0.0033003300330033004 \n",
      "\n",
      "Variable: Longitude\n",
      "count    214420.000000\n",
      "mean        -87.676426\n",
      "std           0.058527\n",
      "min         -87.914428\n",
      "25%         -87.707338\n",
      "50%         -87.666420\n",
      "75%         -87.634955\n",
      "max         -87.525094\n",
      "Name: Longitude, dtype: float64\n",
      "Número de registros únicos: 17249\n",
      "Porcentaje de valores nulos: 0.0033003300330033004 \n",
      "\n"
     ]
    }
   ],
   "source": [
    "fast_describe(df, 'numeric')"
   ]
  },
  {
   "cell_type": "markdown",
   "id": "burning-registrar",
   "metadata": {},
   "source": [
    "---"
   ]
  },
  {
   "cell_type": "markdown",
   "id": "olive-render",
   "metadata": {},
   "source": [
    "## Gráfica"
   ]
  },
  {
   "cell_type": "code",
   "execution_count": 14,
   "id": "plastic-basement",
   "metadata": {},
   "outputs": [
    {
     "name": "stdout",
     "output_type": "stream",
     "text": [
      "<class 'pandas.core.frame.DataFrame'>\n",
      "RangeIndex: 215130 entries, 0 to 215129\n",
      "Data columns (total 17 columns):\n",
      " #   Column           Non-Null Count   Dtype         \n",
      "---  ------           --------------   -----         \n",
      " 0   Inspection ID    215130 non-null  int64         \n",
      " 1   DBA Name         215130 non-null  category      \n",
      " 2   AKA Name         212643 non-null  category      \n",
      " 3   License #        215113 non-null  float64       \n",
      " 4   Facility Type    210238 non-null  category      \n",
      " 5   Risk             215061 non-null  category      \n",
      " 6   Address          215130 non-null  category      \n",
      " 7   City             214972 non-null  category      \n",
      " 8   State            215080 non-null  category      \n",
      " 9   Zip              215078 non-null  float64       \n",
      " 10  Inspection Date  215130 non-null  datetime64[ns]\n",
      " 11  Inspection Type  215129 non-null  category      \n",
      " 12  Results          215130 non-null  category      \n",
      " 13  Violations       157683 non-null  category      \n",
      " 14  Latitude         214420 non-null  float64       \n",
      " 15  Longitude        214420 non-null  float64       \n",
      " 16  Location         214420 non-null  object        \n",
      "dtypes: category(10), datetime64[ns](1), float64(4), int64(1), object(1)\n",
      "memory usage: 23.3+ MB\n"
     ]
    }
   ],
   "source": [
    "df.info()"
   ]
  },
  {
   "cell_type": "code",
   "execution_count": 15,
   "id": "physical-perfume",
   "metadata": {},
   "outputs": [],
   "source": [
    "estados = df.groupby(['State'],as_index=False)['Inspection ID'].count()\\\n",
    ".rename(columns={\"Inspection ID\": 'n'}) "
   ]
  },
  {
   "cell_type": "code",
   "execution_count": 16,
   "id": "typical-destruction",
   "metadata": {},
   "outputs": [
    {
     "data": {
      "image/png": "[encoded data removed]",
      "text/plain": [
       "<Figure size 432x288 with 1 Axes>"
      ]
     },
     "metadata": {
      "needs_background": "light"
     },
     "output_type": "display_data"
    }
   ],
   "source": [
    "plt.bar(estados['State'], estados['n'])\n",
    "plt.show()"
   ]
  },
  {
   "cell_type": "markdown",
   "id": "hazardous-discrimination",
   "metadata": {},
   "source": [
    "---"
   ]
  },
  {
   "cell_type": "code",
   "execution_count": 59,
   "id": "revolutionary-feelings",
   "metadata": {},
   "outputs": [],
   "source": [
    "establecimientos = df.groupby(['Facility Type'],as_index=False)['Inspection ID'].count()\\\n",
    ".rename(columns={\"Inspection ID\": 'n'}) "
   ]
  },
  {
   "cell_type": "code",
   "execution_count": 75,
   "id": "seventh-packing",
   "metadata": {},
   "outputs": [],
   "source": [
    "establecimientos = establecimientos[establecimientos['n']>=200].sort_values('n', ascending = True)"
   ]
  },
  {
   "cell_type": "markdown",
   "id": "organizational-military",
   "metadata": {},
   "source": [
    "Tenemos 501 distintas categorías, seleccionaremos las categorías que tengan al menos 200 observaciones con ese *Facility Type*. 200 observaciones representan .09% del total de observaciones y considerando estos establecimientos tenemos 205667 observaciones que son aproximadamente el 95% de las observaciones."
   ]
  },
  {
   "cell_type": "code",
   "execution_count": 83,
   "id": "geological-story",
   "metadata": {},
   "outputs": [
    {
     "data": {
      "image/png": "[encoded data removed]",
      "text/plain": [
       "<Figure size 432x288 with 1 Axes>"
      ]
     },
     "metadata": {
      "needs_background": "light"
     },
     "output_type": "display_data"
    }
   ],
   "source": [
    "fig, ax = plt.subplots()\n",
    "ax.xaxis.set_major_formatter(number_formatter)\n",
    "plt.barh(establecimientos['Facility Type'], establecimientos['n'])\n",
    "plt.FuncFormatter(number_formatter)\n",
    "plt.show()"
   ]
  },
  {
   "cell_type": "markdown",
   "id": "removed-notification",
   "metadata": {},
   "source": [
    "Los restaurantes tienen son los establecimientos con más observaciones, seguido de tiendas de abarrotes y escuelas, después de estas tres categorías las siguientes cuentan con un número relativamente pequeño de observaciones pero observamos establecimientos como panaderías, guarderías y banqueterías"
   ]
  }
 ],
 "metadata": {
  "kernelspec": {
   "display_name": "dpa",
   "language": "python",
   "name": "dpa"
  },
  "language_info": {
   "codemirror_mode": {
    "name": "ipython",
    "version": 3
   },
   "file_extension": ".py",
   "mimetype": "text/x-python",
   "name": "python",
   "nbconvert_exporter": "python",
   "pygments_lexer": "ipython3",
   "version": "3.7.4"
  }
 },
 "nbformat": 4,
 "nbformat_minor": 5
}
