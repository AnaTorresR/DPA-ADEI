{
 "cells": [
  {
   "cell_type": "markdown",
   "metadata": {},
   "source": [
    "### EDA: Chicago Food Inspections \n",
    "**Risk & Map**   "
   ]
  },
  {
   "cell_type": "code",
   "execution_count": 3,
   "metadata": {},
   "outputs": [],
   "source": [
    "import pandas as pd\n",
    "import matplotlib.pyplot as plt\n",
    "import seaborn as sns\n",
    "import geopandas as gpd"
   ]
  },
  {
   "cell_type": "code",
   "execution_count": 15,
   "metadata": {},
   "outputs": [],
   "source": [
    "from matplotlib.ticker import FuncFormatter\n",
    "\n",
    "def number_formatter(number, pos=None):\n",
    "    \"\"\" Convert a number into a human readable format. \"\"\"\n",
    "    magnitude = 0\n",
    "    while abs(number) >= 1000:\n",
    "        magnitude += 1\n",
    "        number /= 1000.0\n",
    "    return '%.1f%s' % (number, ['', 'K', 'M', 'B', 'T', 'Q'][magnitude])\n",
    "\n",
    "\n",
    "def int_formatter(number, pos=None):\n",
    "    return int(number)"
   ]
  },
  {
   "cell_type": "code",
   "execution_count": 4,
   "metadata": {},
   "outputs": [],
   "source": [
    "datos = pd.read_csv(\"/Users/anatorres/Downloads/Food_Inspections.csv\")"
   ]
  },
  {
   "cell_type": "code",
   "execution_count": 55,
   "metadata": {},
   "outputs": [
    {
     "data": {
      "text/html": [
       "<div>\n",
       "<style scoped>\n",
       "    .dataframe tbody tr th:only-of-type {\n",
       "        vertical-align: middle;\n",
       "    }\n",
       "\n",
       "    .dataframe tbody tr th {\n",
       "        vertical-align: top;\n",
       "    }\n",
       "\n",
       "    .dataframe thead th {\n",
       "        text-align: right;\n",
       "    }\n",
       "</style>\n",
       "<table border=\"1\" class=\"dataframe\">\n",
       "  <thead>\n",
       "    <tr style=\"text-align: right;\">\n",
       "      <th></th>\n",
       "      <th>Inspection ID</th>\n",
       "      <th>DBA Name</th>\n",
       "      <th>AKA Name</th>\n",
       "      <th>License #</th>\n",
       "      <th>Facility Type</th>\n",
       "      <th>Risk</th>\n",
       "      <th>Address</th>\n",
       "      <th>City</th>\n",
       "      <th>State</th>\n",
       "      <th>Zip</th>\n",
       "      <th>Inspection Date</th>\n",
       "      <th>Inspection Type</th>\n",
       "      <th>Results</th>\n",
       "      <th>Violations</th>\n",
       "      <th>Latitude</th>\n",
       "      <th>Longitude</th>\n",
       "      <th>Location</th>\n",
       "    </tr>\n",
       "  </thead>\n",
       "  <tbody>\n",
       "    <tr>\n",
       "      <th>0</th>\n",
       "      <td>2472391</td>\n",
       "      <td>PHILZ COFFEE</td>\n",
       "      <td>PHILZ COFFEE</td>\n",
       "      <td>2766979.0</td>\n",
       "      <td>NaN</td>\n",
       "      <td>Risk 2 (Medium)</td>\n",
       "      <td>1555 N WELLS ST</td>\n",
       "      <td>CHICAGO</td>\n",
       "      <td>IL</td>\n",
       "      <td>60610.0</td>\n",
       "      <td>01/07/21</td>\n",
       "      <td>License</td>\n",
       "      <td>Not Ready</td>\n",
       "      <td>NaN</td>\n",
       "      <td>41.910736</td>\n",
       "      <td>-87.634551</td>\n",
       "      <td>(-87.63455069145124, 41.910736031820235)</td>\n",
       "    </tr>\n",
       "    <tr>\n",
       "      <th>1</th>\n",
       "      <td>2453551</td>\n",
       "      <td>BIAN</td>\n",
       "      <td>BIAN</td>\n",
       "      <td>2744753.0</td>\n",
       "      <td>Restaurant</td>\n",
       "      <td>Risk 1 (High)</td>\n",
       "      <td>600 W CHICAGO AVE</td>\n",
       "      <td>CHICAGO</td>\n",
       "      <td>IL</td>\n",
       "      <td>60654.0</td>\n",
       "      <td>10/20/2020</td>\n",
       "      <td>License</td>\n",
       "      <td>Pass</td>\n",
       "      <td>NaN</td>\n",
       "      <td>41.896585</td>\n",
       "      <td>-87.642996</td>\n",
       "      <td>(-87.64299618172501, 41.896585191199556)</td>\n",
       "    </tr>\n",
       "    <tr>\n",
       "      <th>2</th>\n",
       "      <td>2386633</td>\n",
       "      <td>JIN JU</td>\n",
       "      <td>JIN JU</td>\n",
       "      <td>27137.0</td>\n",
       "      <td>Restaurant</td>\n",
       "      <td>Risk 1 (High)</td>\n",
       "      <td>5203 N CLARK ST</td>\n",
       "      <td>CHICAGO</td>\n",
       "      <td>IL</td>\n",
       "      <td>60640.0</td>\n",
       "      <td>08/28/2020</td>\n",
       "      <td>Canvass</td>\n",
       "      <td>No Entry</td>\n",
       "      <td>NaN</td>\n",
       "      <td>41.976301</td>\n",
       "      <td>-87.668276</td>\n",
       "      <td>(-87.66827593789948, 41.97630115368914)</td>\n",
       "    </tr>\n",
       "    <tr>\n",
       "      <th>3</th>\n",
       "      <td>2386595</td>\n",
       "      <td>LA BIZNAGA #2</td>\n",
       "      <td>LA BIZNAGA #2</td>\n",
       "      <td>2708992.0</td>\n",
       "      <td>NaN</td>\n",
       "      <td>Risk 1 (High)</td>\n",
       "      <td>2949 W BELMONT AVE</td>\n",
       "      <td>CHICAGO</td>\n",
       "      <td>IL</td>\n",
       "      <td>60618.0</td>\n",
       "      <td>08/27/2020</td>\n",
       "      <td>Complaint</td>\n",
       "      <td>No Entry</td>\n",
       "      <td>NaN</td>\n",
       "      <td>41.939256</td>\n",
       "      <td>-87.702270</td>\n",
       "      <td>(-87.70226967930802, 41.939255926667535)</td>\n",
       "    </tr>\n",
       "    <tr>\n",
       "      <th>4</th>\n",
       "      <td>2386523</td>\n",
       "      <td>MC DONALD'S</td>\n",
       "      <td>MC DONALD'S</td>\n",
       "      <td>2560785.0</td>\n",
       "      <td>Restaurant</td>\n",
       "      <td>Risk 2 (Medium)</td>\n",
       "      <td>6336 S ASHLAND AVE</td>\n",
       "      <td>CHICAGO</td>\n",
       "      <td>IL</td>\n",
       "      <td>60636.0</td>\n",
       "      <td>08/26/2020</td>\n",
       "      <td>Short Form Complaint</td>\n",
       "      <td>Pass</td>\n",
       "      <td>NaN</td>\n",
       "      <td>41.778361</td>\n",
       "      <td>-87.664337</td>\n",
       "      <td>(-87.66433686342792, 41.77836097603761)</td>\n",
       "    </tr>\n",
       "  </tbody>\n",
       "</table>\n",
       "</div>"
      ],
      "text/plain": [
       "   Inspection ID       DBA Name       AKA Name  License # Facility Type  \\\n",
       "0        2472391   PHILZ COFFEE   PHILZ COFFEE  2766979.0           NaN   \n",
       "1        2453551           BIAN           BIAN  2744753.0    Restaurant   \n",
       "2        2386633         JIN JU         JIN JU    27137.0    Restaurant   \n",
       "3        2386595  LA BIZNAGA #2  LA BIZNAGA #2  2708992.0           NaN   \n",
       "4        2386523    MC DONALD'S    MC DONALD'S  2560785.0    Restaurant   \n",
       "\n",
       "              Risk              Address     City State      Zip  \\\n",
       "0  Risk 2 (Medium)     1555 N WELLS ST   CHICAGO    IL  60610.0   \n",
       "1    Risk 1 (High)   600 W CHICAGO AVE   CHICAGO    IL  60654.0   \n",
       "2    Risk 1 (High)     5203 N CLARK ST   CHICAGO    IL  60640.0   \n",
       "3    Risk 1 (High)  2949 W BELMONT AVE   CHICAGO    IL  60618.0   \n",
       "4  Risk 2 (Medium)  6336 S ASHLAND AVE   CHICAGO    IL  60636.0   \n",
       "\n",
       "  Inspection Date       Inspection Type    Results Violations   Latitude  \\\n",
       "0        01/07/21               License  Not Ready        NaN  41.910736   \n",
       "1      10/20/2020               License       Pass        NaN  41.896585   \n",
       "2      08/28/2020               Canvass   No Entry        NaN  41.976301   \n",
       "3      08/27/2020             Complaint   No Entry        NaN  41.939256   \n",
       "4      08/26/2020  Short Form Complaint       Pass        NaN  41.778361   \n",
       "\n",
       "   Longitude                                  Location  \n",
       "0 -87.634551  (-87.63455069145124, 41.910736031820235)  \n",
       "1 -87.642996  (-87.64299618172501, 41.896585191199556)  \n",
       "2 -87.668276   (-87.66827593789948, 41.97630115368914)  \n",
       "3 -87.702270  (-87.70226967930802, 41.939255926667535)  \n",
       "4 -87.664337   (-87.66433686342792, 41.77836097603761)  "
      ]
     },
     "execution_count": 55,
     "metadata": {},
     "output_type": "execute_result"
    }
   ],
   "source": [
    "datos.head()"
   ]
  },
  {
   "cell_type": "markdown",
   "metadata": {},
   "source": [
    "**Risk**"
   ]
  },
  {
   "cell_type": "code",
   "execution_count": 33,
   "metadata": {},
   "outputs": [],
   "source": [
    "riesgo = datos.groupby(['Risk'],as_index=False)['Inspection ID'].count()\\\n",
    "                                .rename(columns={\"Inspection ID\": 'registros'})"
   ]
  },
  {
   "cell_type": "code",
   "execution_count": 38,
   "metadata": {},
   "outputs": [],
   "source": [
    "riesgo['proporcion'] = 100*riesgo['registros']/riesgo['registros'].sum()"
   ]
  },
  {
   "cell_type": "code",
   "execution_count": 39,
   "metadata": {},
   "outputs": [
    {
     "data": {
      "text/html": [
       "<div>\n",
       "<style scoped>\n",
       "    .dataframe tbody tr th:only-of-type {\n",
       "        vertical-align: middle;\n",
       "    }\n",
       "\n",
       "    .dataframe tbody tr th {\n",
       "        vertical-align: top;\n",
       "    }\n",
       "\n",
       "    .dataframe thead th {\n",
       "        text-align: right;\n",
       "    }\n",
       "</style>\n",
       "<table border=\"1\" class=\"dataframe\">\n",
       "  <thead>\n",
       "    <tr style=\"text-align: right;\">\n",
       "      <th></th>\n",
       "      <th>Risk</th>\n",
       "      <th>registros</th>\n",
       "      <th>proporcion</th>\n",
       "    </tr>\n",
       "  </thead>\n",
       "  <tbody>\n",
       "    <tr>\n",
       "      <th>0</th>\n",
       "      <td>All</td>\n",
       "      <td>29</td>\n",
       "      <td>0.013485</td>\n",
       "    </tr>\n",
       "    <tr>\n",
       "      <th>1</th>\n",
       "      <td>Risk 1 (High)</td>\n",
       "      <td>153869</td>\n",
       "      <td>71.546677</td>\n",
       "    </tr>\n",
       "    <tr>\n",
       "      <th>2</th>\n",
       "      <td>Risk 2 (Medium)</td>\n",
       "      <td>41978</td>\n",
       "      <td>19.519113</td>\n",
       "    </tr>\n",
       "    <tr>\n",
       "      <th>3</th>\n",
       "      <td>Risk 3 (Low)</td>\n",
       "      <td>19185</td>\n",
       "      <td>8.920725</td>\n",
       "    </tr>\n",
       "  </tbody>\n",
       "</table>\n",
       "</div>"
      ],
      "text/plain": [
       "              Risk  registros  proporcion\n",
       "0              All         29    0.013485\n",
       "1    Risk 1 (High)     153869   71.546677\n",
       "2  Risk 2 (Medium)      41978   19.519113\n",
       "3     Risk 3 (Low)      19185    8.920725"
      ]
     },
     "execution_count": 39,
     "metadata": {},
     "output_type": "execute_result"
    }
   ],
   "source": [
    "riesgo"
   ]
  },
  {
   "cell_type": "code",
   "execution_count": 50,
   "metadata": {},
   "outputs": [
    {
     "name": "stderr",
     "output_type": "stream",
     "text": [
      "/Users/anatorres/.pyenv/versions/dpa/lib/python3.7/site-packages/ipykernel_launcher.py:8: UserWarning: FixedFormatter should only be used together with FixedLocator\n",
      "  \n"
     ]
    },
    {
     "data": {
      "image/png": "[encoded data removed]",
      "text/plain": [
       "<Figure size 432x288 with 1 Axes>"
      ]
     },
     "metadata": {
      "needs_background": "light"
     },
     "output_type": "display_data"
    }
   ],
   "source": [
    "a = sns.barplot(x='proporcion',\n",
    "                y='Risk',\n",
    "                data=riesgo.sort_values(by=\"proporcion\", ascending=False),\n",
    "                color=\"skyblue\"\n",
    "                )\n",
    "\n",
    "a.set_title(\"Porcentaje de riesgo \")\n",
    "a.set_xticklabels(a.get_xticklabels())\n",
    "a.xaxis.set_major_formatter(FuncFormatter(number_formatter))"
   ]
  },
  {
   "cell_type": "markdown",
   "metadata": {},
   "source": [
    "En esta gráfica se observa que el 71% de los establecimientos cuentan con un riesgo alto de no pasar la inspección, el 20% de los establecimientos tienen un riesgo medio y el 9% tienen un riesgo bajo. Finalmente, notamos que 29 establecimientos están catalogados con riesgo \"Todos\"; analizando estos establecimientos notamos lo siguiente\n",
    "\n",
    "**Resultado:**\n",
    "\n",
    "* 13 no tenían resultado aún.\n",
    "* 6 de los establecimientos estaban fuera de servicio\n",
    "* 5 establecimientos no pasaron la inspección\n",
    "* 4 no se le dio entrada a los inspectores\n",
    "* 1 establecimiento no se ubicó.\n",
    "\n",
    "**Tipo establecimiento:**\n",
    "\n",
    "* 8 establecimientos son restaurantes \n",
    "* 2 establecimientos son tiendas de abarrotes\n",
    "* de los 19 establecimientos restantes no se tiene información. \n",
    "\n",
    "**Ciudad**\n",
    "\n",
    "Los 29 establecimientos se ubican en la ciudad de Chicago.\n",
    "\n",
    "**Violaciones**\n",
    "\n",
    "No se tiene información del tipo de violación que cuenta cada establecimiento.\n",
    "\n",
    "**Tipo de inspección** \n",
    "\n",
    "* 20 establecimientos son de tipo 'licencia'\n",
    "* 7 establecimientos de tipo 'sondeo'\n",
    "* 1 establecimiento de tipo 'queja'\n",
    "* 1 establecimiento tiene tipo de inspección 'propietario suspendio operación/licencia'"
   ]
  },
  {
   "cell_type": "markdown",
   "metadata": {},
   "source": [
    "**Mapa**"
   ]
  },
  {
   "cell_type": "code",
   "execution_count": null,
   "metadata": {},
   "outputs": [],
   "source": []
  }
 ],
 "metadata": {
  "kernelspec": {
   "display_name": "dpa",
   "language": "python",
   "name": "dpa"
  },
  "language_info": {
   "codemirror_mode": {
    "name": "ipython",
    "version": 3
   },
   "file_extension": ".py",
   "mimetype": "text/x-python",
   "name": "python",
   "nbconvert_exporter": "python",
   "pygments_lexer": "ipython3",
   "version": "3.7.4"
  }
 },
 "nbformat": 4,
 "nbformat_minor": 4
}
