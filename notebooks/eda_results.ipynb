{
 "cells": [
  {
   "cell_type": "markdown",
   "metadata": {},
   "source": [
    "# EDA: Chicago Food Inspections\n",
    "## columna: results"
   ]
  },
  {
   "cell_type": "code",
   "execution_count": 1,
   "metadata": {},
   "outputs": [],
   "source": [
    "import pandas as pd\n",
    "import numpy as np\n",
    "import matplotlib.pyplot as plt \n",
    "import seaborn as sns"
   ]
  },
  {
   "cell_type": "code",
   "execution_count": 2,
   "metadata": {},
   "outputs": [],
   "source": [
    "inspections = pd.read_csv('../../Food_Inspections.csv')"
   ]
  },
  {
   "cell_type": "code",
   "execution_count": 3,
   "metadata": {},
   "outputs": [
    {
     "data": {
      "text/html": [
       "<div>\n",
       "<style scoped>\n",
       "    .dataframe tbody tr th:only-of-type {\n",
       "        vertical-align: middle;\n",
       "    }\n",
       "\n",
       "    .dataframe tbody tr th {\n",
       "        vertical-align: top;\n",
       "    }\n",
       "\n",
       "    .dataframe thead th {\n",
       "        text-align: right;\n",
       "    }\n",
       "</style>\n",
       "<table border=\"1\" class=\"dataframe\">\n",
       "  <thead>\n",
       "    <tr style=\"text-align: right;\">\n",
       "      <th></th>\n",
       "      <th>Inspection ID</th>\n",
       "      <th>DBA Name</th>\n",
       "      <th>AKA Name</th>\n",
       "      <th>License #</th>\n",
       "      <th>Facility Type</th>\n",
       "      <th>Risk</th>\n",
       "      <th>Address</th>\n",
       "      <th>City</th>\n",
       "      <th>State</th>\n",
       "      <th>Zip</th>\n",
       "      <th>Inspection Date</th>\n",
       "      <th>Inspection Type</th>\n",
       "      <th>Results</th>\n",
       "      <th>Violations</th>\n",
       "      <th>Latitude</th>\n",
       "      <th>Longitude</th>\n",
       "      <th>Location</th>\n",
       "    </tr>\n",
       "  </thead>\n",
       "  <tbody>\n",
       "    <tr>\n",
       "      <th>0</th>\n",
       "      <td>2472391</td>\n",
       "      <td>PHILZ COFFEE</td>\n",
       "      <td>PHILZ COFFEE</td>\n",
       "      <td>2766979.0</td>\n",
       "      <td>NaN</td>\n",
       "      <td>Risk 2 (Medium)</td>\n",
       "      <td>1555 N WELLS ST</td>\n",
       "      <td>CHICAGO</td>\n",
       "      <td>IL</td>\n",
       "      <td>60610.0</td>\n",
       "      <td>01/07/2021</td>\n",
       "      <td>License</td>\n",
       "      <td>Not Ready</td>\n",
       "      <td>NaN</td>\n",
       "      <td>41.910736</td>\n",
       "      <td>-87.634551</td>\n",
       "      <td>(-87.63455069145124, 41.910736031820235)</td>\n",
       "    </tr>\n",
       "    <tr>\n",
       "      <th>1</th>\n",
       "      <td>2453551</td>\n",
       "      <td>BIAN</td>\n",
       "      <td>BIAN</td>\n",
       "      <td>2744753.0</td>\n",
       "      <td>Restaurant</td>\n",
       "      <td>Risk 1 (High)</td>\n",
       "      <td>600 W CHICAGO AVE</td>\n",
       "      <td>CHICAGO</td>\n",
       "      <td>IL</td>\n",
       "      <td>60654.0</td>\n",
       "      <td>10/20/2020</td>\n",
       "      <td>License</td>\n",
       "      <td>Pass</td>\n",
       "      <td>NaN</td>\n",
       "      <td>41.896585</td>\n",
       "      <td>-87.642996</td>\n",
       "      <td>(-87.64299618172501, 41.896585191199556)</td>\n",
       "    </tr>\n",
       "    <tr>\n",
       "      <th>2</th>\n",
       "      <td>2386633</td>\n",
       "      <td>JIN JU</td>\n",
       "      <td>JIN JU</td>\n",
       "      <td>27137.0</td>\n",
       "      <td>Restaurant</td>\n",
       "      <td>Risk 1 (High)</td>\n",
       "      <td>5203 N CLARK ST</td>\n",
       "      <td>CHICAGO</td>\n",
       "      <td>IL</td>\n",
       "      <td>60640.0</td>\n",
       "      <td>08/28/2020</td>\n",
       "      <td>Canvass</td>\n",
       "      <td>No Entry</td>\n",
       "      <td>NaN</td>\n",
       "      <td>41.976301</td>\n",
       "      <td>-87.668276</td>\n",
       "      <td>(-87.66827593789948, 41.97630115368914)</td>\n",
       "    </tr>\n",
       "    <tr>\n",
       "      <th>3</th>\n",
       "      <td>2386595</td>\n",
       "      <td>LA BIZNAGA #2</td>\n",
       "      <td>LA BIZNAGA #2</td>\n",
       "      <td>2708992.0</td>\n",
       "      <td>NaN</td>\n",
       "      <td>Risk 1 (High)</td>\n",
       "      <td>2949 W BELMONT AVE</td>\n",
       "      <td>CHICAGO</td>\n",
       "      <td>IL</td>\n",
       "      <td>60618.0</td>\n",
       "      <td>08/27/2020</td>\n",
       "      <td>Complaint</td>\n",
       "      <td>No Entry</td>\n",
       "      <td>NaN</td>\n",
       "      <td>41.939256</td>\n",
       "      <td>-87.702270</td>\n",
       "      <td>(-87.70226967930802, 41.939255926667535)</td>\n",
       "    </tr>\n",
       "    <tr>\n",
       "      <th>4</th>\n",
       "      <td>2386523</td>\n",
       "      <td>MC DONALD'S</td>\n",
       "      <td>MC DONALD'S</td>\n",
       "      <td>2560785.0</td>\n",
       "      <td>Restaurant</td>\n",
       "      <td>Risk 2 (Medium)</td>\n",
       "      <td>6336 S ASHLAND AVE</td>\n",
       "      <td>CHICAGO</td>\n",
       "      <td>IL</td>\n",
       "      <td>60636.0</td>\n",
       "      <td>08/26/2020</td>\n",
       "      <td>Short Form Complaint</td>\n",
       "      <td>Pass</td>\n",
       "      <td>NaN</td>\n",
       "      <td>41.778361</td>\n",
       "      <td>-87.664337</td>\n",
       "      <td>(-87.66433686342792, 41.77836097603761)</td>\n",
       "    </tr>\n",
       "  </tbody>\n",
       "</table>\n",
       "</div>"
      ],
      "text/plain": [
       "   Inspection ID       DBA Name       AKA Name  License # Facility Type  \\\n",
       "0        2472391   PHILZ COFFEE   PHILZ COFFEE  2766979.0           NaN   \n",
       "1        2453551           BIAN           BIAN  2744753.0    Restaurant   \n",
       "2        2386633         JIN JU         JIN JU    27137.0    Restaurant   \n",
       "3        2386595  LA BIZNAGA #2  LA BIZNAGA #2  2708992.0           NaN   \n",
       "4        2386523    MC DONALD'S    MC DONALD'S  2560785.0    Restaurant   \n",
       "\n",
       "              Risk              Address     City State      Zip  \\\n",
       "0  Risk 2 (Medium)     1555 N WELLS ST   CHICAGO    IL  60610.0   \n",
       "1    Risk 1 (High)   600 W CHICAGO AVE   CHICAGO    IL  60654.0   \n",
       "2    Risk 1 (High)     5203 N CLARK ST   CHICAGO    IL  60640.0   \n",
       "3    Risk 1 (High)  2949 W BELMONT AVE   CHICAGO    IL  60618.0   \n",
       "4  Risk 2 (Medium)  6336 S ASHLAND AVE   CHICAGO    IL  60636.0   \n",
       "\n",
       "  Inspection Date       Inspection Type    Results Violations   Latitude  \\\n",
       "0      01/07/2021               License  Not Ready        NaN  41.910736   \n",
       "1      10/20/2020               License       Pass        NaN  41.896585   \n",
       "2      08/28/2020               Canvass   No Entry        NaN  41.976301   \n",
       "3      08/27/2020             Complaint   No Entry        NaN  41.939256   \n",
       "4      08/26/2020  Short Form Complaint       Pass        NaN  41.778361   \n",
       "\n",
       "   Longitude                                  Location  \n",
       "0 -87.634551  (-87.63455069145124, 41.910736031820235)  \n",
       "1 -87.642996  (-87.64299618172501, 41.896585191199556)  \n",
       "2 -87.668276   (-87.66827593789948, 41.97630115368914)  \n",
       "3 -87.702270  (-87.70226967930802, 41.939255926667535)  \n",
       "4 -87.664337   (-87.66433686342792, 41.77836097603761)  "
      ]
     },
     "execution_count": 3,
     "metadata": {},
     "output_type": "execute_result"
    }
   ],
   "source": [
    "inspections.head(5)"
   ]
  },
  {
   "cell_type": "code",
   "execution_count": 4,
   "metadata": {},
   "outputs": [],
   "source": [
    "percentage = lambda i: len(i) / float(len(x)) * 100"
   ]
  },
  {
   "cell_type": "code",
   "execution_count": 5,
   "metadata": {},
   "outputs": [
    {
     "data": {
      "image/png": "[encoded data removed]",
      "text/plain": [
       "<Figure size 432x288 with 1 Axes>"
      ]
     },
     "metadata": {
      "needs_background": "light"
     },
     "output_type": "display_data"
    }
   ],
   "source": [
    "a = sns.countplot(y=\"Results\", data=inspections,\n",
    "                  order = inspections['Results'].value_counts().index, color=\"skyblue\")\n",
    "a.set_title(\"Frecuencia de resultados de la inspección\")\n",
    "a.set_ylabel(\"Frecuencia\")\n",
    "a.set_xlabel(\"Resultados\")\n",
    "\n",
    "total = len(inspections['Results'])\n",
    "for p in a.patches:\n",
    "        percentage = '{:.1f}%'.format(100 * p.get_width()/total)\n",
    "        x = p.get_x() + p.get_width() + 0.02\n",
    "        y = p.get_y() + p.get_height()/2\n",
    "        a.annotate(percentage, (x, y))\n",
    "\n",
    "plt.show()"
   ]
  },
  {
   "cell_type": "code",
   "execution_count": 7,
   "metadata": {},
   "outputs": [],
   "source": [
    "inspections_aux = inspections.copy()\n",
    "inspections_aux.Results.mask(inspections_aux.Results == 'Pass w/ Conditions', 'Pass', inplace=True)"
   ]
  },
  {
   "cell_type": "code",
   "execution_count": 9,
   "metadata": {},
   "outputs": [
    {
     "data": {
      "image/png": "[encoded data removed]",
      "text/plain": [
       "<Figure size 432x288 with 1 Axes>"
      ]
     },
     "metadata": {
      "needs_background": "light"
     },
     "output_type": "display_data"
    }
   ],
   "source": [
    "b = sns.countplot(y=\"Results\", data=inspections_aux,\n",
    "                  order = inspections_aux['Results'].value_counts().index, color=\"skyblue\")\n",
    "b.set_title(\"Frecuencia de resultados de la inspección tomando Pass w/ Conditions como Pass\")\n",
    "b.set_ylabel(\"Frecuencia\")\n",
    "b.set_xlabel(\"Resultados\")\n",
    "\n",
    "total = len(inspections_aux['Results'])\n",
    "for p in b.patches:\n",
    "        percentage = '{:.1f}%'.format(100 * p.get_width()/total)\n",
    "        x = p.get_x() + p.get_width() + 0.02\n",
    "        y = p.get_y() + p.get_height()/2\n",
    "        b.annotate(percentage, (x, y))\n",
    "\n",
    "plt.show()"
   ]
  },
  {
   "cell_type": "markdown",
   "metadata": {},
   "source": [
    "+ En esta columna no se encontró ningún valor faltante\n",
    "\n",
    "+ En el ~67% de las inspecciones el establecimiento pasó la inspección, donde:\n",
    "    + ~15% pasó la inspección condicionalmente\n",
    "    + ~50% pasó la inspección satisfactoriamente\n",
    "+ En el ~19% de las inspecciones el establecimiento reprobó la inspección.\n",
    "+ ~9% de los establecimientos ya había cerrado al momento de la inspección.\n",
    "+ ~3% de los establecimientos no presentan inspección por alguna razón\n",
    "+ ~1% de los estableciemitnos no se encontraban listos para recibir la inspección\n",
    "+ Mientras que muy pocos establciemientos ~0%, no fueron localizados y por lo tanto no se pudo realizar la inspección."
   ]
  },
  {
   "cell_type": "code",
   "execution_count": null,
   "metadata": {},
   "outputs": [],
   "source": []
  }
 ],
 "metadata": {
  "kernelspec": {
   "display_name": "Python 3",
   "language": "python",
   "name": "python3"
  },
  "language_info": {
   "codemirror_mode": {
    "name": "ipython",
    "version": 3
   },
   "file_extension": ".py",
   "mimetype": "text/x-python",
   "name": "python",
   "nbconvert_exporter": "python",
   "pygments_lexer": "ipython3",
   "version": "3.8.5"
  }
 },
 "nbformat": 4,
 "nbformat_minor": 4
}
